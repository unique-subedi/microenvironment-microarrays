{
  "nbformat": 4,
  "nbformat_minor": 0,
  "metadata": {
    "colab": {
      "provenance": [],
      "collapsed_sections": [],
      "include_colab_link": true
    },
    "kernelspec": {
      "name": "python3",
      "display_name": "Python 3"
    },
    "language_info": {
      "name": "python"
    }
  },
  "cells": [
    {
      "cell_type": "markdown",
      "metadata": {
        "id": "view-in-github",
        "colab_type": "text"
      },
      "source": [
        "<a href=\"https://colab.research.google.com/github/unique-subedi/stats604-project1/blob/main/604_project1.ipynb\" target=\"_parent\"><img src=\"https://colab.research.google.com/assets/colab-badge.svg\" alt=\"Open In Colab\"/></a>"
      ]
    },
    {
      "cell_type": "code",
      "execution_count": 15,
      "metadata": {
        "id": "aW-zUQtezYM5",
        "colab": {
          "base_uri": "https://localhost:8080/"
        },
        "outputId": "ae89c64c-faea-48b7-b7af-257f507fb048"
      },
      "outputs": [
        {
          "output_type": "stream",
          "name": "stdout",
          "text": [
            "Drive already mounted at /content/drive; to attempt to forcibly remount, call drive.mount(\"/content/drive\", force_remount=True).\n"
          ]
        }
      ],
      "source": [
        "from google.colab import drive\n",
        "drive.mount('/content/drive')\n",
        "import sys\n",
        "sys.path.insert(1, '/content/drive/MyDrive/Colab Notebooks/stats-604/project1/Data/')"
      ]
    },
    {
      "cell_type": "code",
      "source": [
        "import numpy as np\n",
        "import pandas as pd\n",
        "pd.set_option('display.max_columns', 200)\n",
        "import scipy.stats as stats\n",
        "import matplotlib.pyplot as plt\n",
        "import seaborn as sns\n"
      ],
      "metadata": {
        "id": "4P5o_M2c0YTD"
      },
      "execution_count": 122,
      "outputs": []
    },
    {
      "cell_type": "markdown",
      "source": [
        "## Read data for each plate and concatenate all the plates for a particular stain. "
      ],
      "metadata": {
        "id": "v1p4-zrfSd0s"
      }
    },
    {
      "cell_type": "code",
      "source": [
        "plates = {}\n",
        "j = 1\n",
        "for i in range(510, 536):\n",
        "  if(i != 518 and i != 527):\n",
        "    plates[\"plate\"+str(j)] = pd.read_csv(\"/content/drive/MyDrive/Colab Notebooks/stats-604/project1/Data/LI8X00\"+ str(i) +\"_Level2.tsv\", sep = '\\t')\n",
        "    j += 1"
      ],
      "metadata": {
        "id": "EKqZehRS0-51"
      },
      "execution_count": 72,
      "outputs": []
    },
    {
      "cell_type": "code",
      "source": [
        "stain1 = pd.concat([plates[\"plate1\"],plates[\"plate2\"], plates[\"plate3\"],plates[\"plate4\"],plates[\"plate5\"],plates[\"plate6\"],plates[\"plate7\"],plates[\"plate8\"]])\n",
        "stain2 = pd.concat([plates[\"plate9\"],plates[\"plate10\"], plates[\"plate11\"],plates[\"plate12\"],plates[\"plate13\"],plates[\"plate14\"],plates[\"plate15\"],plates[\"plate16\"]])\n",
        "stain3 = pd.concat([plates[\"plate17\"],plates[\"plate18\"], plates[\"plate19\"],plates[\"plate20\"],plates[\"plate21\"],plates[\"plate22\"],plates[\"plate23\"],plates[\"plate24\"]])"
      ],
      "metadata": {
        "id": "_mHrKXL35udo"
      },
      "execution_count": 82,
      "outputs": []
    },
    {
      "cell_type": "markdown",
      "source": [
        "## Summary statistic of the cell count for the first plate"
      ],
      "metadata": {
        "id": "rLsKvo2ESkjr"
      }
    },
    {
      "cell_type": "code",
      "source": [
        "df = plates[\"plate1\"].loc[:, \"PrintSpot\":]\n",
        "cell_count = df[\"Spot_PA_SpotCellCount\"]\n",
        "print(cell_count.describe())"
      ],
      "metadata": {
        "colab": {
          "base_uri": "https://localhost:8080/"
        },
        "id": "eIppYjNe7C7W",
        "outputId": "6ada13ba-07cb-42fe-b403-d652e340c992"
      },
      "execution_count": 127,
      "outputs": [
        {
          "output_type": "stream",
          "name": "stdout",
          "text": [
            "count    5570.000000\n",
            "mean       64.814901\n",
            "std        25.831999\n",
            "min         1.000000\n",
            "25%        49.000000\n",
            "50%        67.000000\n",
            "75%        83.000000\n",
            "max       149.000000\n",
            "Name: Spot_PA_SpotCellCount, dtype: float64\n"
          ]
        }
      ]
    },
    {
      "cell_type": "markdown",
      "source": [
        "## Density plot of the cell count for the first plate"
      ],
      "metadata": {
        "id": "PsdlG-MMVbJ9"
      }
    },
    {
      "cell_type": "code",
      "source": [
        "sns.distplot(cell_count)"
      ],
      "metadata": {
        "colab": {
          "base_uri": "https://localhost:8080/",
          "height": 352
        },
        "id": "EFDdvTsEVeUy",
        "outputId": "2f732b01-3464-46d1-9128-c5b56791de8e"
      },
      "execution_count": 129,
      "outputs": [
        {
          "output_type": "stream",
          "name": "stderr",
          "text": [
            "/usr/local/lib/python3.7/dist-packages/seaborn/distributions.py:2619: FutureWarning: `distplot` is a deprecated function and will be removed in a future version. Please adapt your code to use either `displot` (a figure-level function with similar flexibility) or `histplot` (an axes-level function for histograms).\n",
            "  warnings.warn(msg, FutureWarning)\n"
          ]
        },
        {
          "output_type": "execute_result",
          "data": {
            "text/plain": [
              "<matplotlib.axes._subplots.AxesSubplot at 0x7f51f2f35510>"
            ]
          },
          "metadata": {},
          "execution_count": 129
        },
        {
          "output_type": "display_data",
          "data": {
            "text/plain": [
              "<Figure size 432x288 with 1 Axes>"
            ],
            "image/png": "[encoded data removed]"
          },
          "metadata": {
            "needs_background": "light"
          }
        }
      ]
    },
    {
      "cell_type": "markdown",
      "source": [
        "## Mean of cell count for every combination of ECMP and Ligand for stain set 1"
      ],
      "metadata": {
        "id": "Qg5cbTThVjI5"
      }
    },
    {
      "cell_type": "code",
      "source": [
        "stain1.groupby(['ECMp', 'Ligand1']).mean()[\"Spot_PA_SpotCellCount\"]"
      ],
      "metadata": {
        "colab": {
          "base_uri": "https://localhost:8080/"
        },
        "id": "7k7B3-KWV6NO",
        "outputId": "b20e8017-3054-4aca-b382-c218e34d97ef"
      },
      "execution_count": 131,
      "outputs": [
        {
          "output_type": "execute_result",
          "data": {
            "text/plain": [
              "ECMp     Ligand1               \n",
              "ALCAM|1  ANGPT1|1_Q15389|1         60.466667\n",
              "         ANGPT2|1_O15123|1         47.600000\n",
              "         AREG_P15514               70.533333\n",
              "         BMP2_P12643               54.600000\n",
              "         BMP3_P12645               78.800000\n",
              "                                     ...    \n",
              "gelatin  TNF_P01375                13.000000\n",
              "         VEGFA|VEGF206_P15692|1     4.000000\n",
              "         WNT10A_Q9GZT5              5.000000\n",
              "         WNT3A|1_P56704|1          12.000000\n",
              "         Wnt5a|1_P22725|1           1.000000\n",
              "Name: Spot_PA_SpotCellCount, Length: 2847, dtype: float64"
            ]
          },
          "metadata": {},
          "execution_count": 131
        }
      ]
    },
    {
      "cell_type": "code",
      "source": [],
      "metadata": {
        "id": "23CxyJbJYsDI"
      },
      "execution_count": null,
      "outputs": []
    }
  ]
}
