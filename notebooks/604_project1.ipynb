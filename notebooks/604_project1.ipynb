{
  "nbformat": 4,
  "nbformat_minor": 0,
  "metadata": {
    "colab": {
      "provenance": [],
      "collapsed_sections": [],
      "include_colab_link": true
    },
    "kernelspec": {
      "name": "python3",
      "display_name": "Python 3"
    },
    "language_info": {
      "name": "python"
    }
  },
  "cells": [
    {
      "cell_type": "markdown",
      "metadata": {
        "id": "view-in-github",
        "colab_type": "text"
      },
      "source": [
        "<a href=\"https://colab.research.google.com/github/unique-subedi/stats604-project1/blob/main/604_project1.ipynb\" target=\"_parent\"><img src=\"https://colab.research.google.com/assets/colab-badge.svg\" alt=\"Open In Colab\"/></a>"
      ]
    },
    {
      "cell_type": "markdown",
      "source": [
        "\n",
        "<a href=\"https://colab.research.google.com/github.com/unique-subedi/stats604-project1/blob/main/604_project1.ipynb\" target=\"_parent\"><img src=\"https://colab.research.google.com/assets/colab-badge.svg\" alt=\"Open notebook on Colab\"/></a>"
      ],
      "metadata": {
        "id": "JpmDZ45cYs5B"
      }
    },
    {
      "cell_type": "code",
      "source": [
        "import numpy as np\n",
        "import pandas as pd\n",
        "pd.set_option('display.max_columns', 200)\n",
        "import scipy.stats as stats\n",
        "import matplotlib.pyplot as plt\n",
        "import seaborn as sns\n",
        "import sys\n",
        "import urllib.request\n",
        "import collections\n",
        "from statsmodels.stats.multitest import multipletests\n",
        "import math\n",
        "from sklearn.decomposition import PCA\n"
      ],
      "metadata": {
        "id": "4P5o_M2c0YTD"
      },
      "execution_count": null,
      "outputs": []
    },
    {
      "cell_type": "markdown",
      "source": [
        "## Make a dictionary of dataframes for each plate"
      ],
      "metadata": {
        "id": "neMO6Y-BeDsL"
      }
    },
    {
      "cell_type": "code",
      "source": [
        "plates = {}\n",
        "j = 1\n",
        "for i in range(510, 536):\n",
        "  if(i != 518 and i != 527):\n",
        "    url = \"https://raw.githubusercontent.com/unique-subedi/stats604-project1/main/Data/LI8X00\"+ str(i) +\"_Level2.tsv\"\n",
        "    urllib.request.urlretrieve(url, \"LI8X00\"+ str(i) +\"_Level2.tsv\")\n",
        "    plates[\"plate\"+str(j)] = pd.read_csv(\"LI8X00\"+ str(i) +\"_Level2.tsv\", sep = '\\t')\n",
        "    j += 1\n"
      ],
      "metadata": {
        "id": "RjcYGUFmaGkK"
      },
      "execution_count": null,
      "outputs": []
    },
    {
      "cell_type": "markdown",
      "source": [],
      "metadata": {
        "id": "g_reF_tcBtmA"
      }
    },
    {
      "cell_type": "markdown",
      "source": [
        "## About the data\n",
        "The column Ligand1 and the column ECMp represents the ligand and ECMPs used. For ligand, the value \"FBS_pubchemsid56314508\" is the control ligand because it appears in multiple plate within the staining set. We know from the lecture that \"COL1\" is the control ECMp."
      ],
      "metadata": {
        "id": "3ijuUQuVejWE"
      }
    },
    {
      "cell_type": "markdown",
      "source": [
        "## Concatenate all the plates for a particular stain. "
      ],
      "metadata": {
        "id": "v1p4-zrfSd0s"
      }
    },
    {
      "cell_type": "code",
      "source": [
        "stain3 = pd.concat([plates[\"plate1\"],plates[\"plate2\"], plates[\"plate3\"],plates[\"plate4\"],plates[\"plate5\"],plates[\"plate6\"],plates[\"plate7\"],plates[\"plate8\"]])\n",
        "stain1 = pd.concat([plates[\"plate9\"],plates[\"plate10\"], plates[\"plate11\"],plates[\"plate12\"],plates[\"plate13\"],plates[\"plate14\"],plates[\"plate15\"],plates[\"plate16\"]])\n",
        "stain2 = pd.concat([plates[\"plate17\"],plates[\"plate18\"], plates[\"plate19\"],plates[\"plate20\"],plates[\"plate21\"],plates[\"plate22\"],plates[\"plate23\"],plates[\"plate24\"]])"
      ],
      "metadata": {
        "id": "_mHrKXL35udo"
      },
      "execution_count": null,
      "outputs": []
    },
    {
      "cell_type": "code",
      "source": [
        "stain1 = stain1[(stain1.ECMp != \"air\") &  (stain1.ECMp != \"gelatin\")]\n",
        "stain2 = stain2[(stain2.ECMp != \"air\") &  (stain2.ECMp != \"gelatin\")]\n",
        "stain3 = stain3[(stain3.ECMp != \"air\") &  (stain3.ECMp != \"gelatin\")]"
      ],
      "metadata": {
        "id": "hGKO7ujawTOb"
      },
      "execution_count": null,
      "outputs": []
    },
    {
      "cell_type": "code",
      "source": [
        "print(len(stain1.groupby(['ECMp', 'Ligand1'])))"
      ],
      "metadata": {
        "colab": {
          "base_uri": "https://localhost:8080/"
        },
        "id": "78nvPaz14xWk",
        "outputId": "e4d87031-e202-49ed-cad0-4f6dc86c38e6"
      },
      "execution_count": null,
      "outputs": [
        {
          "output_type": "stream",
          "name": "stdout",
          "text": [
            "2736\n"
          ]
        }
      ]
    },
    {
      "cell_type": "code",
      "source": [
        "def significant_ecmp_ligand(df, var):\n",
        "    ecmp_ligand = df.groupby(['ECMp', 'Ligand1'])\n",
        "    control = ecmp_ligand.get_group(('COL1', 'FBS_pubchemsid56314508'))\n",
        "    names = list(ecmp_ligand.groups)\n",
        "    p_values = []\n",
        "    for name, group in ecmp_ligand:\n",
        "      result = stats.anderson_ksamp([control[var], group[var]], midrank = True)\n",
        "      p_values.append(result[2])\n",
        "\n",
        "    idx = (np.isnan(p_values)-1)*-1\n",
        "    names = np.delete(names, idx, axis =0).tolist()\n",
        "    p_values = np.delete(p_values, idx)\n",
        "\n",
        "    results = multipletests(p_values, alpha=0.05, method='fdr_bh', is_sorted=False, returnsorted=False)\n",
        "    insignificant_indices = np.nonzero((results[0]-1)*(-1))\n",
        "    names_reject = np.delete(names, insignificant_indices, axis =0).tolist()\n",
        "    \n",
        "    pvalues_reject = np.delete(p_values, insignificant_indices)\n",
        "    significant_ecmps = np.asarray(np.unique(np.array(names_reject)[:, 0], return_counts = True)).T\n",
        "    significant_ligands = np.asarray(np.unique(np.array(names_reject)[:, 1], return_counts = True)).T\n",
        "    return significant_ecmps, significant_ligands, names_reject\n"
      ],
      "metadata": {
        "id": "wUf7rH153uW8"
      },
      "execution_count": null,
      "outputs": []
    },
    {
      "cell_type": "code",
      "source": [
        "sig_ecmp, sig_ligand, pairs= significant_ecmp_ligand(stain1, \"Nuclei_CP_AreaShape_Area\")\n",
        "sig_ecmp = sig_ecmp[sig_ecmp[:, 1].astype(np.float).argsort()[::-1]]\n",
        "sig_ligand = sig_ligand[sig_ligand[:, 1].astype(np.float).argsort()[::-1]]\n",
        "#pd.DataFrame(pairs).to_csv(\"significant3.csv\")\n",
        "print(len(pairs))\n",
        "print(sig_ecmp[:5])\n",
        "print(sig_ligand[:5])"
      ],
      "metadata": {
        "colab": {
          "base_uri": "https://localhost:8080/"
        },
        "id": "x7Rg5P57x1Po",
        "outputId": "7230f9c2-7d64-45e9-a3c5-d62385fec9dd"
      },
      "execution_count": null,
      "outputs": [
        {
          "output_type": "stream",
          "name": "stderr",
          "text": [
            "/usr/local/lib/python3.7/dist-packages/ipykernel_launcher.py:7: UserWarning: p-value capped: true value larger than 0.25\n",
            "  import sys\n",
            "/usr/local/lib/python3.7/dist-packages/ipykernel_launcher.py:7: UserWarning: p-value floored: true value smaller than 0.001\n",
            "  import sys\n"
          ]
        },
        {
          "output_type": "stream",
          "name": "stdout",
          "text": [
            "950\n",
            "[['ELN|3' '45']\n",
            " ['NID1|1' '39']\n",
            " ['OMD' '37']\n",
            " ['FN1|1' '36']\n",
            " ['FBN1' '35']]\n",
            "[['JAG2|Long_Q9Y219|1' '45']\n",
            " ['Wnt5a|1_P22725|1' '38']\n",
            " ['IGF1|1_P05019|1' '38']\n",
            " ['WNT10A_Q9GZT5' '37']\n",
            " ['BMP2_P12643' '35']]\n"
          ]
        },
        {
          "output_type": "stream",
          "name": "stderr",
          "text": [
            "/usr/local/lib/python3.7/dist-packages/ipykernel_launcher.py:2: DeprecationWarning: `np.float` is a deprecated alias for the builtin `float`. To silence this warning, use `float` by itself. Doing this will not modify any behavior and is safe. If you specifically wanted the numpy scalar type, use `np.float64` here.\n",
            "Deprecated in NumPy 1.20; for more details and guidance: https://numpy.org/devdocs/release/1.20.0-notes.html#deprecations\n",
            "  \n",
            "/usr/local/lib/python3.7/dist-packages/ipykernel_launcher.py:3: DeprecationWarning: `np.float` is a deprecated alias for the builtin `float`. To silence this warning, use `float` by itself. Doing this will not modify any behavior and is safe. If you specifically wanted the numpy scalar type, use `np.float64` here.\n",
            "Deprecated in NumPy 1.20; for more details and guidance: https://numpy.org/devdocs/release/1.20.0-notes.html#deprecations\n",
            "  This is separate from the ipykernel package so we can avoid doing imports until\n"
          ]
        }
      ]
    },
    {
      "cell_type": "code",
      "source": [
        "\n",
        "stain2.groupby(['ECMp'])[\"Spot_PA_SpotCellCount\"].mean()\n",
        "#stain3.groupby(['ECMp'])[\"Spot_PA_SpotCellCount\"].mean()"
      ],
      "metadata": {
        "colab": {
          "base_uri": "https://localhost:8080/"
        },
        "id": "96LIv4qT6lr4",
        "outputId": "45b4e5d7-6844-4306-96c0-5cf1d2bbd176"
      },
      "execution_count": null,
      "outputs": [
        {
          "output_type": "execute_result",
          "data": {
            "text/plain": [
              "ECMp\n",
              "ALCAM|1        367.666667\n",
              "BCAN|1         360.929688\n",
              "BGN            369.053571\n",
              "CD44|1         371.262500\n",
              "CDH15          359.660714\n",
              "CDH1|1         377.069792\n",
              "CDH20          374.700000\n",
              "CDH3|1         373.489183\n",
              "CDH6|1         373.738542\n",
              "CDH8           368.518750\n",
              "CEACAM6        362.725000\n",
              "COL1           374.103233\n",
              "COL23A1|1      381.534375\n",
              "COL2A1|2       371.921788\n",
              "COL3A1|1       377.064651\n",
              "COL4           436.247917\n",
              "COL5A1         370.518750\n",
              "DCN|A          352.107143\n",
              "DSG2           382.595833\n",
              "ECM1|1         382.481250\n",
              "ELN|3          216.703911\n",
              "FBN1           404.956425\n",
              "FN1|1          396.536313\n",
              "GAP43|1        363.009375\n",
              "HA<500kDa      363.885417\n",
              "HA>500kDa      368.156250\n",
              "ICAM1          353.728125\n",
              "ITGA10B1       365.867708\n",
              "ITGA2B1        348.820833\n",
              "ITGA3B1        358.414583\n",
              "ITGA4B1        372.125140\n",
              "ITGA6B4        356.992708\n",
              "ITGA9B1        365.275000\n",
              "ITGAMB2        357.689583\n",
              "ITGAVB6        376.124088\n",
              "LAMB1          366.684375\n",
              "LUM            399.825000\n",
              "Laminin3B32    370.728884\n",
              "NID1|1         224.214286\n",
              "OMD            391.820312\n",
              "PECAM1|Long    354.149038\n",
              "POSTN|1        350.382812\n",
              "SPARC          363.387019\n",
              "SPP1|A         361.362981\n",
              "THBS1|1        390.551339\n",
              "TNC|1          376.216760\n",
              "VCAM1|1        358.284856\n",
              "VTN            364.647321\n",
              "Name: Spot_PA_SpotCellCount, dtype: float64"
            ]
          },
          "metadata": {},
          "execution_count": 93
        }
      ]
    },
    {
      "cell_type": "code",
      "source": [
        "print(stain1[stain1.ECMp == \"NID1|1\"].loc[:, \"Nuclei_CP_AreaShape_Area\"].mean() )\n",
        "print(stain1[stain1.ECMp != \"NID1|1\"].loc[:, \"Nuclei_CP_AreaShape_Area\"].mean())\n"
      ],
      "metadata": {
        "colab": {
          "base_uri": "https://localhost:8080/"
        },
        "id": "vO6XrYB578ki",
        "outputId": "40ba415f-e23f-4f93-af3f-b897c35bf5c7"
      },
      "execution_count": null,
      "outputs": [
        {
          "output_type": "stream",
          "name": "stdout",
          "text": [
            "1015.4867469879518\n",
            "868.2350086058519\n"
          ]
        }
      ]
    },
    {
      "cell_type": "code",
      "source": [
        "print(stain2[stain2.ECMp == \"NID1|1\"].loc[:, \"Nuclei_CP_AreaShape_Area\"].mean() )\n",
        "print(stain2[stain2.ECMp != \"NID1|1\"].loc[:, \"Nuclei_CP_AreaShape_Area\"].mean())\n"
      ],
      "metadata": {
        "colab": {
          "base_uri": "https://localhost:8080/"
        },
        "id": "mJlidiHs8isq",
        "outputId": "f61b7dae-ccaa-44c2-a421-31e8320ef5f5"
      },
      "execution_count": null,
      "outputs": [
        {
          "output_type": "stream",
          "name": "stdout",
          "text": [
            "1175.6997578692494\n",
            "1022.9521159406986\n"
          ]
        }
      ]
    },
    {
      "cell_type": "code",
      "source": [
        "print(stain3[stain3.ECMp == \"NID1|1\"].loc[:, \"Nuclei_CP_AreaShape_Area\"].mean() )\n",
        "print(stain3[stain3.ECMp != \"NID1|1\"].loc[:, \"Nuclei_CP_AreaShape_Area\"].mean())\n"
      ],
      "metadata": {
        "colab": {
          "base_uri": "https://localhost:8080/"
        },
        "id": "-HsLIOLd8nlK",
        "outputId": "fe681a55-28b6-4c14-a201-d8bc123f2b0d"
      },
      "execution_count": null,
      "outputs": [
        {
          "output_type": "stream",
          "name": "stdout",
          "text": [
            "1223.3339598997493\n",
            "1262.276324274528\n"
          ]
        }
      ]
    },
    {
      "cell_type": "code",
      "source": [],
      "metadata": {
        "id": "sUh8xJymy39r"
      },
      "execution_count": null,
      "outputs": []
    },
    {
      "cell_type": "code",
      "source": [],
      "metadata": {
        "id": "jIZ85O54wNXb"
      },
      "execution_count": null,
      "outputs": []
    },
    {
      "cell_type": "markdown",
      "source": [
        "## Stain Set 1"
      ],
      "metadata": {
        "id": "5MXGB6auDoXe"
      }
    },
    {
      "cell_type": "markdown",
      "source": [
        "### Structural features of cells"
      ],
      "metadata": {
        "id": "6XdEiCIkcNHM"
      }
    },
    {
      "cell_type": "code",
      "source": [
        "cell_structural_1 = stain1.loc[:,\"Cells_CP_AreaShape_Area\": \"Cells_CP_AreaShape_Solidity\" ]\n",
        "cell_structural_1.fillna(cell_structural_1.mean())\n",
        "c = cell_structural_1.shape[1]-1\n",
        "pca = PCA(n_components= c, svd_solver='full')\n",
        "pca.fit(cell_structural_1)\n",
        "projected_cell_structural_1 = pca.transform(cell_structural_1)[:, 0].flatten()\n",
        "plt.plot(np.linspace(1,c,c), pca.explained_variance_ratio_, 'ro-', linewidth=2)\n",
        "plt.title('Scree Plot for structural features of cells in stain set 1')\n",
        "plt.xlabel('Principal Component')\n",
        "plt.ylabel('Proportion of Explained Variation')\n",
        "plt.show()\n",
        "print(\"Explained variation of the first component:\", pca.explained_variance_ratio_[0])"
      ],
      "metadata": {
        "colab": {
          "base_uri": "https://localhost:8080/",
          "height": 312
        },
        "id": "ltWQXpssGGU9",
        "outputId": "b76d87d5-86d2-46ba-9d97-c6e7aab73a01"
      },
      "execution_count": null,
      "outputs": [
        {
          "output_type": "display_data",
          "data": {
            "text/plain": [
              "<Figure size 432x288 with 1 Axes>"
            ],
            "image/png": "[encoded data removed]"
          },
          "metadata": {
            "needs_background": "light"
          }
        },
        {
          "output_type": "stream",
          "name": "stdout",
          "text": [
            "Explained variation of the first component: 0.9977245207920994\n"
          ]
        }
      ]
    },
    {
      "cell_type": "markdown",
      "source": [
        "### Structural features of cytoplasm"
      ],
      "metadata": {
        "id": "tmJp4pxncS2J"
      }
    },
    {
      "cell_type": "code",
      "source": [
        "cytoplasm_structural_1 = stain1.loc[:, \"Cytoplasm_CP_AreaShape_Area\":\"Cytoplasm_CP_AreaShape_Solidity\"]\n",
        "c = cytoplasm_structural_1.shape[1]-1\n",
        "pca = PCA(n_components= c, svd_solver='full')\n",
        "pca.fit(cytoplasm_structural_1)\n",
        "projected_cytoplasm_structural_1 = pca.transform(cytoplasm_structural_1)[:, 0].flatten()\n",
        "plt.plot(np.linspace(1,c,c), pca.explained_variance_ratio_, 'ro-', linewidth=2)\n",
        "plt.title('Scree Plot for structural features of cytoplasm in stain set 1')\n",
        "plt.xlabel('Principal Component')\n",
        "plt.ylabel('Proportion of Explained Variation')\n",
        "plt.show()\n",
        "print(\"Explained variation of the first component:\", pca.explained_variance_ratio_[0])"
      ],
      "metadata": {
        "colab": {
          "base_uri": "https://localhost:8080/",
          "height": 312
        },
        "id": "mW4PZ8jXca3c",
        "outputId": "78299bad-82fb-4d27-8f4a-825338d9dafd"
      },
      "execution_count": null,
      "outputs": [
        {
          "output_type": "display_data",
          "data": {
            "text/plain": [
              "<Figure size 432x288 with 1 Axes>"
            ],
            "image/png": "[encoded data removed]"
          },
          "metadata": {
            "needs_background": "light"
          }
        },
        {
          "output_type": "stream",
          "name": "stdout",
          "text": [
            "Explained variation of the first component: 0.9928789421257035\n"
          ]
        }
      ]
    },
    {
      "cell_type": "markdown",
      "source": [
        "### Structural feature of nuclei "
      ],
      "metadata": {
        "id": "S_sE-8KhcqFp"
      }
    },
    {
      "cell_type": "code",
      "source": [
        "nuclei_structural_1 = stain1.loc[:, \"Nuclei_CP_AreaShape_Area\":\"Nuclei_CP_AreaShape_Solidity\"]\n",
        "c = nuclei_structural_1.shape[1]-1\n",
        "pca = PCA(n_components= c, svd_solver='full')\n",
        "pca.fit(nuclei_structural_1)\n",
        "projected_nuclei_structural_1 = pca.transform(nuclei_structural_1)[:, 0].flatten()\n",
        "plt.plot(np.linspace(1,c,c), pca.explained_variance_ratio_, 'ro-', linewidth=2)\n",
        "plt.title('Scree Plot for structural features of nuclei in stain set 1')\n",
        "plt.xlabel('Principal Component')\n",
        "plt.ylabel('Proportion of Explained Variation')\n",
        "plt.show()\n",
        "print(\"Explained variation of the first component:\", pca.explained_variance_ratio_[0])"
      ],
      "metadata": {
        "colab": {
          "base_uri": "https://localhost:8080/",
          "height": 312
        },
        "id": "VSe9-WSmcvgy",
        "outputId": "6b956d1f-7b1e-4332-b301-2015249963db"
      },
      "execution_count": null,
      "outputs": [
        {
          "output_type": "display_data",
          "data": {
            "text/plain": [
              "<Figure size 432x288 with 1 Axes>"
            ],
            "image/png": "[encoded data removed]"
          },
          "metadata": {
            "needs_background": "light"
          }
        },
        {
          "output_type": "stream",
          "name": "stdout",
          "text": [
            "Explained variation of the first component: 0.9905250453318581\n"
          ]
        }
      ]
    },
    {
      "cell_type": "markdown",
      "source": [
        "### Dataset of four variables\n",
        "\n",
        "\n",
        "\n"
      ],
      "metadata": {
        "id": "UCV3UK6NdQEY"
      }
    },
    {
      "cell_type": "code",
      "source": [
        "df1 = pd.DataFrame(np.array([projected_cell_structural_1, projected_cytoplasm_structural_1, projected_nuclei_structural_1, stain1[\"Spot_PA_SpotCellCount\"].values])).T\n",
        "df1.columns = [\"cell_structure\", \"cytoplasm_structure\", 'nuclei_structure', 'cell_count']\n",
        "df1.corr(method =\"spearman\")\n"
      ],
      "metadata": {
        "colab": {
          "base_uri": "https://localhost:8080/",
          "height": 175
        },
        "id": "LzeZjRIWdU2X",
        "outputId": "00873d5b-2be6-4316-94f2-8dc4d49b14f7"
      },
      "execution_count": null,
      "outputs": [
        {
          "output_type": "execute_result",
          "data": {
            "text/plain": [
              "                     cell_structure  cytoplasm_structure  nuclei_structure  \\\n",
              "cell_structure             1.000000             0.899118          0.858409   \n",
              "cytoplasm_structure        0.899118             1.000000          0.704607   \n",
              "nuclei_structure           0.858409             0.704607          1.000000   \n",
              "cell_count                -0.632121            -0.544414         -0.622740   \n",
              "\n",
              "                     cell_count  \n",
              "cell_structure        -0.632121  \n",
              "cytoplasm_structure   -0.544414  \n",
              "nuclei_structure      -0.622740  \n",
              "cell_count             1.000000  "
            ],
            "text/html": [
              "\n",
              "  <div id=\"df-0ffe4086-3400-40b4-974f-235918cefce9\">\n",
              "    <div class=\"colab-df-container\">\n",
              "      <div>\n",
              "<style scoped>\n",
              "    .dataframe tbody tr th:only-of-type {\n",
              "        vertical-align: middle;\n",
              "    }\n",
              "\n",
              "    .dataframe tbody tr th {\n",
              "        vertical-align: top;\n",
              "    }\n",
              "\n",
              "    .dataframe thead th {\n",
              "        text-align: right;\n",
              "    }\n",
              "</style>\n",
              "<table border=\"1\" class=\"dataframe\">\n",
              "  <thead>\n",
              "    <tr style=\"text-align: right;\">\n",
              "      <th></th>\n",
              "      <th>cell_structure</th>\n",
              "      <th>cytoplasm_structure</th>\n",
              "      <th>nuclei_structure</th>\n",
              "      <th>cell_count</th>\n",
              "    </tr>\n",
              "  </thead>\n",
              "  <tbody>\n",
              "    <tr>\n",
              "      <th>cell_structure</th>\n",
              "      <td>1.000000</td>\n",
              "      <td>0.899118</td>\n",
              "      <td>0.858409</td>\n",
              "      <td>-0.632121</td>\n",
              "    </tr>\n",
              "    <tr>\n",
              "      <th>cytoplasm_structure</th>\n",
              "      <td>0.899118</td>\n",
              "      <td>1.000000</td>\n",
              "      <td>0.704607</td>\n",
              "      <td>-0.544414</td>\n",
              "    </tr>\n",
              "    <tr>\n",
              "      <th>nuclei_structure</th>\n",
              "      <td>0.858409</td>\n",
              "      <td>0.704607</td>\n",
              "      <td>1.000000</td>\n",
              "      <td>-0.622740</td>\n",
              "    </tr>\n",
              "    <tr>\n",
              "      <th>cell_count</th>\n",
              "      <td>-0.632121</td>\n",
              "      <td>-0.544414</td>\n",
              "      <td>-0.622740</td>\n",
              "      <td>1.000000</td>\n",
              "    </tr>\n",
              "  </tbody>\n",
              "</table>\n",
              "</div>\n",
              "      <button class=\"colab-df-convert\" onclick=\"convertToInteractive('df-0ffe4086-3400-40b4-974f-235918cefce9')\"\n",
              "              title=\"Convert this dataframe to an interactive table.\"\n",
              "              style=\"display:none;\">\n",
              "        \n",
              "  <svg xmlns=\"http://www.w3.org/2000/svg\" height=\"24px\"viewBox=\"0 0 24 24\"\n",
              "       width=\"24px\">\n",
              "    <path d=\"M0 0h24v24H0V0z\" fill=\"none\"/>\n",
              "    <path d=\"M18.56 5.44l.94 2.06.94-2.06 2.06-.94-2.06-.94-.94-2.06-.94 2.06-2.06.94zm-11 1L8.5 8.5l.94-2.06 2.06-.94-2.06-.94L8.5 2.5l-.94 2.06-2.06.94zm10 10l.94 2.06.94-2.06 2.06-.94-2.06-.94-.94-2.06-.94 2.06-2.06.94z\"/><path d=\"M17.41 7.96l-1.37-1.37c-.4-.4-.92-.59-1.43-.59-.52 0-1.04.2-1.43.59L10.3 9.45l-7.72 7.72c-.78.78-.78 2.05 0 2.83L4 21.41c.39.39.9.59 1.41.59.51 0 1.02-.2 1.41-.59l7.78-7.78 2.81-2.81c.8-.78.8-2.07 0-2.86zM5.41 20L4 18.59l7.72-7.72 1.47 1.35L5.41 20z\"/>\n",
              "  </svg>\n",
              "      </button>\n",
              "      \n",
              "  <style>\n",
              "    .colab-df-container {\n",
              "      display:flex;\n",
              "      flex-wrap:wrap;\n",
              "      gap: 12px;\n",
              "    }\n",
              "\n",
              "    .colab-df-convert {\n",
              "      background-color: #E8F0FE;\n",
              "      border: none;\n",
              "      border-radius: 50%;\n",
              "      cursor: pointer;\n",
              "      display: none;\n",
              "      fill: #1967D2;\n",
              "      height: 32px;\n",
              "      padding: 0 0 0 0;\n",
              "      width: 32px;\n",
              "    }\n",
              "\n",
              "    .colab-df-convert:hover {\n",
              "      background-color: #E2EBFA;\n",
              "      box-shadow: 0px 1px 2px rgba(60, 64, 67, 0.3), 0px 1px 3px 1px rgba(60, 64, 67, 0.15);\n",
              "      fill: #174EA6;\n",
              "    }\n",
              "\n",
              "    [theme=dark] .colab-df-convert {\n",
              "      background-color: #3B4455;\n",
              "      fill: #D2E3FC;\n",
              "    }\n",
              "\n",
              "    [theme=dark] .colab-df-convert:hover {\n",
              "      background-color: #434B5C;\n",
              "      box-shadow: 0px 1px 3px 1px rgba(0, 0, 0, 0.15);\n",
              "      filter: drop-shadow(0px 1px 2px rgba(0, 0, 0, 0.3));\n",
              "      fill: #FFFFFF;\n",
              "    }\n",
              "  </style>\n",
              "\n",
              "      <script>\n",
              "        const buttonEl =\n",
              "          document.querySelector('#df-0ffe4086-3400-40b4-974f-235918cefce9 button.colab-df-convert');\n",
              "        buttonEl.style.display =\n",
              "          google.colab.kernel.accessAllowed ? 'block' : 'none';\n",
              "\n",
              "        async function convertToInteractive(key) {\n",
              "          const element = document.querySelector('#df-0ffe4086-3400-40b4-974f-235918cefce9');\n",
              "          const dataTable =\n",
              "            await google.colab.kernel.invokeFunction('convertToInteractive',\n",
              "                                                     [key], {});\n",
              "          if (!dataTable) return;\n",
              "\n",
              "          const docLinkHtml = 'Like what you see? Visit the ' +\n",
              "            '<a target=\"_blank\" href=https://colab.research.google.com/notebooks/data_table.ipynb>data table notebook</a>'\n",
              "            + ' to learn more about interactive tables.';\n",
              "          element.innerHTML = '';\n",
              "          dataTable['output_type'] = 'display_data';\n",
              "          await google.colab.output.renderOutput(dataTable, element);\n",
              "          const docLink = document.createElement('div');\n",
              "          docLink.innerHTML = docLinkHtml;\n",
              "          element.appendChild(docLink);\n",
              "        }\n",
              "      </script>\n",
              "    </div>\n",
              "  </div>\n",
              "  "
            ]
          },
          "metadata": {},
          "execution_count": 32
        }
      ]
    },
    {
      "cell_type": "code",
      "source": [
        "#numeric1 = df1.loc[:,:\"cell_count\"]\n",
        "sns.heatmap(df1.corr(method = \"spearman\"))"
      ],
      "metadata": {
        "colab": {
          "base_uri": "https://localhost:8080/",
          "height": 379
        },
        "id": "W6PoGIoTqi4k",
        "outputId": "ad5575ed-e2ed-4170-c52d-284acc6b91a6"
      },
      "execution_count": null,
      "outputs": [
        {
          "output_type": "execute_result",
          "data": {
            "text/plain": [
              "<matplotlib.axes._subplots.AxesSubplot at 0x7f99ffd47f90>"
            ]
          },
          "metadata": {},
          "execution_count": 240
        },
        {
          "output_type": "display_data",
          "data": {
            "text/plain": [
              "<Figure size 432x288 with 2 Axes>"
            ],
            "image/png": "[encoded data removed]"
          },
          "metadata": {
            "needs_background": "light"
          }
        }
      ]
    },
    {
      "cell_type": "code",
      "source": [],
      "metadata": {
        "id": "-e-ICigmrKHX"
      },
      "execution_count": null,
      "outputs": []
    },
    {
      "cell_type": "markdown",
      "source": [
        "## ECMP-Ligand Analysis"
      ],
      "metadata": {
        "id": "z2PZDx3M3A-M"
      }
    },
    {
      "cell_type": "code",
      "source": [
        "df1[\"ECMp\"] = stain1[\"ECMp\"].values\n",
        "df1[\"Ligand1\"] = stain1[\"Ligand1\"].values\n",
        "sig_ecmp, sig_ligand= significant_ecmp_ligand(df1)\n",
        "print(sig_ecmp, sig_ligand)"
      ],
      "metadata": {
        "colab": {
          "base_uri": "https://localhost:8080/"
        },
        "id": "EtFkda7_x1P7",
        "outputId": "efda8783-38bd-4e66-b5ca-8c972b3614ab"
      },
      "execution_count": null,
      "outputs": [
        {
          "output_type": "stream",
          "name": "stderr",
          "text": [
            "/usr/local/lib/python3.7/dist-packages/ipykernel_launcher.py:7: UserWarning: p-value floored: true value smaller than 0.001\n",
            "  import sys\n",
            "/usr/local/lib/python3.7/dist-packages/ipykernel_launcher.py:7: UserWarning: p-value capped: true value larger than 0.25\n",
            "  import sys\n"
          ]
        },
        {
          "output_type": "stream",
          "name": "stdout",
          "text": [
            "[['ALCAM|1' '9']\n",
            " ['BCAN|1' '16']\n",
            " ['BGN' '7']\n",
            " ['CD44|1' '8']\n",
            " ['CDH15' '16']\n",
            " ['CDH1|1' '10']\n",
            " ['CDH20' '10']\n",
            " ['CDH3|1' '19']\n",
            " ['CDH6|1' '12']\n",
            " ['CDH8' '11']\n",
            " ['CEACAM6' '7']\n",
            " ['COL1' '7']\n",
            " ['COL23A1|1' '6']\n",
            " ['COL2A1|2' '8']\n",
            " ['COL3A1|1' '3']\n",
            " ['COL4' '29']\n",
            " ['COL5A1' '2']\n",
            " ['DCN|A' '6']\n",
            " ['DSG2' '28']\n",
            " ['ECM1|1' '9']\n",
            " ['ELN|3' '57']\n",
            " ['FBN1' '37']\n",
            " ['FN1|1' '45']\n",
            " ['GAP43|1' '6']\n",
            " ['HA<500kDa' '9']\n",
            " ['HA>500kDa' '8']\n",
            " ['ICAM1' '6']\n",
            " ['ITGA10B1' '9']\n",
            " ['ITGA2B1' '15']\n",
            " ['ITGA3B1' '5']\n",
            " ['ITGA4B1' '16']\n",
            " ['ITGA6B4' '9']\n",
            " ['ITGA9B1' '4']\n",
            " ['ITGAMB2' '8']\n",
            " ['ITGAVB6' '8']\n",
            " ['LAMB1' '8']\n",
            " ['LUM' '25']\n",
            " ['Laminin3B32' '8']\n",
            " ['NID1|1' '50']\n",
            " ['OMD' '42']\n",
            " ['PECAM1|Long' '5']\n",
            " ['POSTN|1' '4']\n",
            " ['SPARC' '19']\n",
            " ['SPP1|A' '5']\n",
            " ['THBS1|1' '32']\n",
            " ['TNC|1' '30']\n",
            " ['VCAM1|1' '15']\n",
            " ['VTN' '7']\n",
            " ['air' '57']\n",
            " ['gelatin' '46']] [['ANGPT1|1_Q15389|1' '8']\n",
            " ['ANGPT2|1_O15123|1' '16']\n",
            " ['AREG_P15514' '25']\n",
            " ['BMP2_P12643' '49']\n",
            " ['BMP3_P12645' '13']\n",
            " ['BMP4_P12644' '14']\n",
            " ['BMP5|1_P22003|1' '5']\n",
            " ['BMP6_P22004' '12']\n",
            " ['BMP7_P18075' '7']\n",
            " ['CSF2_P04141' '8']\n",
            " ['CTGF|1_P29279|1' '12']\n",
            " ['CXCL12|Alpha_P48061|2' '7']\n",
            " ['CXCL12|Beta_P48061|1' '15']\n",
            " ['CXCL1_P09341' '12']\n",
            " ['CXCL8|1_P10145|1' '15']\n",
            " ['DLL1|1_O00548|1' '31']\n",
            " ['DLL4_Q9NR61' '17']\n",
            " ['EGF|1_P01133|1' '8']\n",
            " ['FASLG|1_P48023|1' '10']\n",
            " ['FBS_pubchemsid56314508' '15']\n",
            " ['FGF2|3_P09038|2' '5']\n",
            " ['FGF6_P10767' '6']\n",
            " ['FLT3LG|1_P49771|1' '12']\n",
            " ['GPNMB|1_Q14956|1' '41']\n",
            " ['HGF|1_P14210|1' '15']\n",
            " ['IGF1|1_P05019|1' '37']\n",
            " ['IGFBP2_P18065' '10']\n",
            " ['IGFBP3|1_P17936|1' '10']\n",
            " ['IL13_P35225' '8']\n",
            " ['IL15|IL15S48AA_P40933|1' '26']\n",
            " ['IL1B_P01584' '20']\n",
            " ['IL6_P05231' '11']\n",
            " ['IL7|1_P13232|1' '19']\n",
            " ['JAG1|1_P78504|1' '7']\n",
            " ['JAG2|Long_Q9Y219|1' '28']\n",
            " ['KITLG|1_P21583|1' '18']\n",
            " ['KNG1|HMW_P01042|1' '9']\n",
            " ['LEP_P41159' '8']\n",
            " ['LYVE1_Q9Y5Y7' '6']\n",
            " ['NRG1|10_Q02297|10' '28']\n",
            " ['NRG1|1_Q02297|1' '6']\n",
            " ['NRG1|6_Q02297|6' '10']\n",
            " ['PDGFAB_go1990265' '7']\n",
            " ['PDGFB|1_P01127|1' '19']\n",
            " ['PTN_P21246' '16']\n",
            " ['SHH_Q15465' '15']\n",
            " ['TGFB1||Cterminus_P01137||Cterminus' '5']\n",
            " ['TGFB1||LAP_P01137||LAP' '15']\n",
            " ['TGFB2|A_P61812|1' '12']\n",
            " ['THPO|1_P40225|1' '8']\n",
            " ['TNFRSF11B_O00300' '9']\n",
            " ['TNFSF11|1_O14788|1' '6']\n",
            " ['TNF_P01375' '6']\n",
            " ['VEGFA|VEGF206_P15692|1' '9']\n",
            " ['WNT10A_Q9GZT5' '20']\n",
            " ['WNT3A|1_P56704|1' '8']\n",
            " ['Wnt5a|1_P22725|1' '24']]\n"
          ]
        }
      ]
    },
    {
      "cell_type": "markdown",
      "source": [
        "## Stain cell 2"
      ],
      "metadata": {
        "id": "EPJ8oyShiG3U"
      }
    },
    {
      "cell_type": "markdown",
      "source": [
        "### Structural features of cells"
      ],
      "metadata": {
        "id": "-6jjKJHiiSY3"
      }
    },
    {
      "cell_type": "code",
      "source": [
        "cell_structural_2 = stain2.loc[:,\"Cells_CP_AreaShape_Area\": \"Cells_CP_AreaShape_Solidity\" ]\n",
        "c = cell_structural_2.shape[1]-1\n",
        "pca = PCA(n_components= c, svd_solver='full')\n",
        "pca.fit(cell_structural_2)\n",
        "projected_cell_structural_2 = pca.transform(cell_structural_2)[:, 0].flatten()\n",
        "plt.plot(np.linspace(1,c,c), pca.explained_variance_ratio_, 'ro-', linewidth=2)\n",
        "plt.title('Scree Plot for structural features of cells in stain set 2')\n",
        "plt.xlabel('Principal Component')\n",
        "plt.ylabel('Proportion of Explained Variation')\n",
        "plt.show()\n",
        "print(\"Explained variation of the first component:\", pca.explained_variance_ratio_[0])"
      ],
      "metadata": {
        "colab": {
          "base_uri": "https://localhost:8080/",
          "height": 503
        },
        "id": "h6ZlOP9KiNCq",
        "outputId": "5f489207-58cf-4fed-bcbc-119ebd0cb21c"
      },
      "execution_count": null,
      "outputs": [
        {
          "output_type": "error",
          "ename": "KeyError",
          "evalue": "ignored",
          "traceback": [
            "\u001b[0;31m---------------------------------------------------------------------------\u001b[0m",
            "\u001b[0;31mKeyError\u001b[0m                                  Traceback (most recent call last)",
            "\u001b[0;32m/usr/local/lib/python3.7/dist-packages/pandas/core/indexes/base.py\u001b[0m in \u001b[0;36mget_loc\u001b[0;34m(self, key, method, tolerance)\u001b[0m\n\u001b[1;32m   3360\u001b[0m             \u001b[0;32mtry\u001b[0m\u001b[0;34m:\u001b[0m\u001b[0;34m\u001b[0m\u001b[0;34m\u001b[0m\u001b[0m\n\u001b[0;32m-> 3361\u001b[0;31m                 \u001b[0;32mreturn\u001b[0m \u001b[0mself\u001b[0m\u001b[0;34m.\u001b[0m\u001b[0m_engine\u001b[0m\u001b[0;34m.\u001b[0m\u001b[0mget_loc\u001b[0m\u001b[0;34m(\u001b[0m\u001b[0mcasted_key\u001b[0m\u001b[0;34m)\u001b[0m\u001b[0;34m\u001b[0m\u001b[0;34m\u001b[0m\u001b[0m\n\u001b[0m\u001b[1;32m   3362\u001b[0m             \u001b[0;32mexcept\u001b[0m \u001b[0mKeyError\u001b[0m \u001b[0;32mas\u001b[0m \u001b[0merr\u001b[0m\u001b[0;34m:\u001b[0m\u001b[0;34m\u001b[0m\u001b[0;34m\u001b[0m\u001b[0m\n",
            "\u001b[0;32m/usr/local/lib/python3.7/dist-packages/pandas/_libs/index.pyx\u001b[0m in \u001b[0;36mpandas._libs.index.IndexEngine.get_loc\u001b[0;34m()\u001b[0m\n",
            "\u001b[0;32m/usr/local/lib/python3.7/dist-packages/pandas/_libs/index.pyx\u001b[0m in \u001b[0;36mpandas._libs.index.IndexEngine.get_loc\u001b[0;34m()\u001b[0m\n",
            "\u001b[0;32mpandas/_libs/hashtable_class_helper.pxi\u001b[0m in \u001b[0;36mpandas._libs.hashtable.PyObjectHashTable.get_item\u001b[0;34m()\u001b[0m\n",
            "\u001b[0;32mpandas/_libs/hashtable_class_helper.pxi\u001b[0m in \u001b[0;36mpandas._libs.hashtable.PyObjectHashTable.get_item\u001b[0;34m()\u001b[0m\n",
            "\u001b[0;31mKeyError\u001b[0m: 'Cells_CP_AreaShape_Area'",
            "\nThe above exception was the direct cause of the following exception:\n",
            "\u001b[0;31mKeyError\u001b[0m                                  Traceback (most recent call last)",
            "\u001b[0;32m<ipython-input-37-74bfab110279>\u001b[0m in \u001b[0;36m<module>\u001b[0;34m\u001b[0m\n\u001b[0;32m----> 1\u001b[0;31m \u001b[0mcell_structural_2\u001b[0m \u001b[0;34m=\u001b[0m \u001b[0mstain2\u001b[0m\u001b[0;34m.\u001b[0m\u001b[0mloc\u001b[0m\u001b[0;34m[\u001b[0m\u001b[0;34m:\u001b[0m\u001b[0;34m,\u001b[0m\u001b[0;34m\"Cells_CP_AreaShape_Area\"\u001b[0m\u001b[0;34m:\u001b[0m \u001b[0;34m\"Cells_CP_AreaShape_Solidity\"\u001b[0m \u001b[0;34m]\u001b[0m\u001b[0;34m\u001b[0m\u001b[0;34m\u001b[0m\u001b[0m\n\u001b[0m\u001b[1;32m      2\u001b[0m \u001b[0mc\u001b[0m \u001b[0;34m=\u001b[0m \u001b[0mcell_structural_2\u001b[0m\u001b[0;34m.\u001b[0m\u001b[0mshape\u001b[0m\u001b[0;34m[\u001b[0m\u001b[0;36m1\u001b[0m\u001b[0;34m]\u001b[0m\u001b[0;34m-\u001b[0m\u001b[0;36m1\u001b[0m\u001b[0;34m\u001b[0m\u001b[0;34m\u001b[0m\u001b[0m\n\u001b[1;32m      3\u001b[0m \u001b[0mpca\u001b[0m \u001b[0;34m=\u001b[0m \u001b[0mPCA\u001b[0m\u001b[0;34m(\u001b[0m\u001b[0mn_components\u001b[0m\u001b[0;34m=\u001b[0m \u001b[0mc\u001b[0m\u001b[0;34m,\u001b[0m \u001b[0msvd_solver\u001b[0m\u001b[0;34m=\u001b[0m\u001b[0;34m'full'\u001b[0m\u001b[0;34m)\u001b[0m\u001b[0;34m\u001b[0m\u001b[0;34m\u001b[0m\u001b[0m\n\u001b[1;32m      4\u001b[0m \u001b[0mpca\u001b[0m\u001b[0;34m.\u001b[0m\u001b[0mfit\u001b[0m\u001b[0;34m(\u001b[0m\u001b[0mcell_structural_2\u001b[0m\u001b[0;34m)\u001b[0m\u001b[0;34m\u001b[0m\u001b[0;34m\u001b[0m\u001b[0m\n\u001b[1;32m      5\u001b[0m \u001b[0mprojected_cell_structural_2\u001b[0m \u001b[0;34m=\u001b[0m \u001b[0mpca\u001b[0m\u001b[0;34m.\u001b[0m\u001b[0mtransform\u001b[0m\u001b[0;34m(\u001b[0m\u001b[0mcell_structural_2\u001b[0m\u001b[0;34m)\u001b[0m\u001b[0;34m[\u001b[0m\u001b[0;34m:\u001b[0m\u001b[0;34m,\u001b[0m \u001b[0;36m0\u001b[0m\u001b[0;34m]\u001b[0m\u001b[0;34m.\u001b[0m\u001b[0mflatten\u001b[0m\u001b[0;34m(\u001b[0m\u001b[0;34m)\u001b[0m\u001b[0;34m\u001b[0m\u001b[0;34m\u001b[0m\u001b[0m\n",
            "\u001b[0;32m/usr/local/lib/python3.7/dist-packages/pandas/core/indexing.py\u001b[0m in \u001b[0;36m__getitem__\u001b[0;34m(self, key)\u001b[0m\n\u001b[1;32m    923\u001b[0m                 \u001b[0;32mwith\u001b[0m \u001b[0msuppress\u001b[0m\u001b[0;34m(\u001b[0m\u001b[0mKeyError\u001b[0m\u001b[0;34m,\u001b[0m \u001b[0mIndexError\u001b[0m\u001b[0;34m)\u001b[0m\u001b[0;34m:\u001b[0m\u001b[0;34m\u001b[0m\u001b[0;34m\u001b[0m\u001b[0m\n\u001b[1;32m    924\u001b[0m                     \u001b[0;32mreturn\u001b[0m \u001b[0mself\u001b[0m\u001b[0;34m.\u001b[0m\u001b[0mobj\u001b[0m\u001b[0;34m.\u001b[0m\u001b[0m_get_value\u001b[0m\u001b[0;34m(\u001b[0m\u001b[0;34m*\u001b[0m\u001b[0mkey\u001b[0m\u001b[0;34m,\u001b[0m \u001b[0mtakeable\u001b[0m\u001b[0;34m=\u001b[0m\u001b[0mself\u001b[0m\u001b[0;34m.\u001b[0m\u001b[0m_takeable\u001b[0m\u001b[0;34m)\u001b[0m\u001b[0;34m\u001b[0m\u001b[0;34m\u001b[0m\u001b[0m\n\u001b[0;32m--> 925\u001b[0;31m             \u001b[0;32mreturn\u001b[0m \u001b[0mself\u001b[0m\u001b[0;34m.\u001b[0m\u001b[0m_getitem_tuple\u001b[0m\u001b[0;34m(\u001b[0m\u001b[0mkey\u001b[0m\u001b[0;34m)\u001b[0m\u001b[0;34m\u001b[0m\u001b[0;34m\u001b[0m\u001b[0m\n\u001b[0m\u001b[1;32m    926\u001b[0m         \u001b[0;32melse\u001b[0m\u001b[0;34m:\u001b[0m\u001b[0;34m\u001b[0m\u001b[0;34m\u001b[0m\u001b[0m\n\u001b[1;32m    927\u001b[0m             \u001b[0;31m# we by definition only have the 0th axis\u001b[0m\u001b[0;34m\u001b[0m\u001b[0;34m\u001b[0m\u001b[0;34m\u001b[0m\u001b[0m\n",
            "\u001b[0;32m/usr/local/lib/python3.7/dist-packages/pandas/core/indexing.py\u001b[0m in \u001b[0;36m_getitem_tuple\u001b[0;34m(self, tup)\u001b[0m\n\u001b[1;32m   1107\u001b[0m             \u001b[0;32mreturn\u001b[0m \u001b[0mself\u001b[0m\u001b[0;34m.\u001b[0m\u001b[0m_multi_take\u001b[0m\u001b[0;34m(\u001b[0m\u001b[0mtup\u001b[0m\u001b[0;34m)\u001b[0m\u001b[0;34m\u001b[0m\u001b[0;34m\u001b[0m\u001b[0m\n\u001b[1;32m   1108\u001b[0m \u001b[0;34m\u001b[0m\u001b[0m\n\u001b[0;32m-> 1109\u001b[0;31m         \u001b[0;32mreturn\u001b[0m \u001b[0mself\u001b[0m\u001b[0;34m.\u001b[0m\u001b[0m_getitem_tuple_same_dim\u001b[0m\u001b[0;34m(\u001b[0m\u001b[0mtup\u001b[0m\u001b[0;34m)\u001b[0m\u001b[0;34m\u001b[0m\u001b[0;34m\u001b[0m\u001b[0m\n\u001b[0m\u001b[1;32m   1110\u001b[0m \u001b[0;34m\u001b[0m\u001b[0m\n\u001b[1;32m   1111\u001b[0m     \u001b[0;32mdef\u001b[0m \u001b[0m_get_label\u001b[0m\u001b[0;34m(\u001b[0m\u001b[0mself\u001b[0m\u001b[0;34m,\u001b[0m \u001b[0mlabel\u001b[0m\u001b[0;34m,\u001b[0m \u001b[0maxis\u001b[0m\u001b[0;34m:\u001b[0m \u001b[0mint\u001b[0m\u001b[0;34m)\u001b[0m\u001b[0;34m:\u001b[0m\u001b[0;34m\u001b[0m\u001b[0;34m\u001b[0m\u001b[0m\n",
            "\u001b[0;32m/usr/local/lib/python3.7/dist-packages/pandas/core/indexing.py\u001b[0m in \u001b[0;36m_getitem_tuple_same_dim\u001b[0;34m(self, tup)\u001b[0m\n\u001b[1;32m    804\u001b[0m                 \u001b[0;32mcontinue\u001b[0m\u001b[0;34m\u001b[0m\u001b[0;34m\u001b[0m\u001b[0m\n\u001b[1;32m    805\u001b[0m \u001b[0;34m\u001b[0m\u001b[0m\n\u001b[0;32m--> 806\u001b[0;31m             \u001b[0mretval\u001b[0m \u001b[0;34m=\u001b[0m \u001b[0mgetattr\u001b[0m\u001b[0;34m(\u001b[0m\u001b[0mretval\u001b[0m\u001b[0;34m,\u001b[0m \u001b[0mself\u001b[0m\u001b[0;34m.\u001b[0m\u001b[0mname\u001b[0m\u001b[0;34m)\u001b[0m\u001b[0;34m.\u001b[0m\u001b[0m_getitem_axis\u001b[0m\u001b[0;34m(\u001b[0m\u001b[0mkey\u001b[0m\u001b[0;34m,\u001b[0m \u001b[0maxis\u001b[0m\u001b[0;34m=\u001b[0m\u001b[0mi\u001b[0m\u001b[0;34m)\u001b[0m\u001b[0;34m\u001b[0m\u001b[0;34m\u001b[0m\u001b[0m\n\u001b[0m\u001b[1;32m    807\u001b[0m             \u001b[0;31m# We should never have retval.ndim < self.ndim, as that should\u001b[0m\u001b[0;34m\u001b[0m\u001b[0;34m\u001b[0m\u001b[0;34m\u001b[0m\u001b[0m\n\u001b[1;32m    808\u001b[0m             \u001b[0;31m#  be handled by the _getitem_lowerdim call above.\u001b[0m\u001b[0;34m\u001b[0m\u001b[0;34m\u001b[0m\u001b[0;34m\u001b[0m\u001b[0m\n",
            "\u001b[0;32m/usr/local/lib/python3.7/dist-packages/pandas/core/indexing.py\u001b[0m in \u001b[0;36m_getitem_axis\u001b[0;34m(self, key, axis)\u001b[0m\n\u001b[1;32m   1140\u001b[0m         \u001b[0;32mif\u001b[0m \u001b[0misinstance\u001b[0m\u001b[0;34m(\u001b[0m\u001b[0mkey\u001b[0m\u001b[0;34m,\u001b[0m \u001b[0mslice\u001b[0m\u001b[0;34m)\u001b[0m\u001b[0;34m:\u001b[0m\u001b[0;34m\u001b[0m\u001b[0;34m\u001b[0m\u001b[0m\n\u001b[1;32m   1141\u001b[0m             \u001b[0mself\u001b[0m\u001b[0;34m.\u001b[0m\u001b[0m_validate_key\u001b[0m\u001b[0;34m(\u001b[0m\u001b[0mkey\u001b[0m\u001b[0;34m,\u001b[0m \u001b[0maxis\u001b[0m\u001b[0;34m)\u001b[0m\u001b[0;34m\u001b[0m\u001b[0;34m\u001b[0m\u001b[0m\n\u001b[0;32m-> 1142\u001b[0;31m             \u001b[0;32mreturn\u001b[0m \u001b[0mself\u001b[0m\u001b[0;34m.\u001b[0m\u001b[0m_get_slice_axis\u001b[0m\u001b[0;34m(\u001b[0m\u001b[0mkey\u001b[0m\u001b[0;34m,\u001b[0m \u001b[0maxis\u001b[0m\u001b[0;34m=\u001b[0m\u001b[0maxis\u001b[0m\u001b[0;34m)\u001b[0m\u001b[0;34m\u001b[0m\u001b[0;34m\u001b[0m\u001b[0m\n\u001b[0m\u001b[1;32m   1143\u001b[0m         \u001b[0;32melif\u001b[0m \u001b[0mcom\u001b[0m\u001b[0;34m.\u001b[0m\u001b[0mis_bool_indexer\u001b[0m\u001b[0;34m(\u001b[0m\u001b[0mkey\u001b[0m\u001b[0;34m)\u001b[0m\u001b[0;34m:\u001b[0m\u001b[0;34m\u001b[0m\u001b[0;34m\u001b[0m\u001b[0m\n\u001b[1;32m   1144\u001b[0m             \u001b[0;32mreturn\u001b[0m \u001b[0mself\u001b[0m\u001b[0;34m.\u001b[0m\u001b[0m_getbool_axis\u001b[0m\u001b[0;34m(\u001b[0m\u001b[0mkey\u001b[0m\u001b[0;34m,\u001b[0m \u001b[0maxis\u001b[0m\u001b[0;34m=\u001b[0m\u001b[0maxis\u001b[0m\u001b[0;34m)\u001b[0m\u001b[0;34m\u001b[0m\u001b[0;34m\u001b[0m\u001b[0m\n",
            "\u001b[0;32m/usr/local/lib/python3.7/dist-packages/pandas/core/indexing.py\u001b[0m in \u001b[0;36m_get_slice_axis\u001b[0;34m(self, slice_obj, axis)\u001b[0m\n\u001b[1;32m   1174\u001b[0m \u001b[0;34m\u001b[0m\u001b[0m\n\u001b[1;32m   1175\u001b[0m         \u001b[0mlabels\u001b[0m \u001b[0;34m=\u001b[0m \u001b[0mobj\u001b[0m\u001b[0;34m.\u001b[0m\u001b[0m_get_axis\u001b[0m\u001b[0;34m(\u001b[0m\u001b[0maxis\u001b[0m\u001b[0;34m)\u001b[0m\u001b[0;34m\u001b[0m\u001b[0;34m\u001b[0m\u001b[0m\n\u001b[0;32m-> 1176\u001b[0;31m         \u001b[0mindexer\u001b[0m \u001b[0;34m=\u001b[0m \u001b[0mlabels\u001b[0m\u001b[0;34m.\u001b[0m\u001b[0mslice_indexer\u001b[0m\u001b[0;34m(\u001b[0m\u001b[0mslice_obj\u001b[0m\u001b[0;34m.\u001b[0m\u001b[0mstart\u001b[0m\u001b[0;34m,\u001b[0m \u001b[0mslice_obj\u001b[0m\u001b[0;34m.\u001b[0m\u001b[0mstop\u001b[0m\u001b[0;34m,\u001b[0m \u001b[0mslice_obj\u001b[0m\u001b[0;34m.\u001b[0m\u001b[0mstep\u001b[0m\u001b[0;34m)\u001b[0m\u001b[0;34m\u001b[0m\u001b[0;34m\u001b[0m\u001b[0m\n\u001b[0m\u001b[1;32m   1177\u001b[0m \u001b[0;34m\u001b[0m\u001b[0m\n\u001b[1;32m   1178\u001b[0m         \u001b[0;32mif\u001b[0m \u001b[0misinstance\u001b[0m\u001b[0;34m(\u001b[0m\u001b[0mindexer\u001b[0m\u001b[0;34m,\u001b[0m \u001b[0mslice\u001b[0m\u001b[0;34m)\u001b[0m\u001b[0;34m:\u001b[0m\u001b[0;34m\u001b[0m\u001b[0;34m\u001b[0m\u001b[0m\n",
            "\u001b[0;32m/usr/local/lib/python3.7/dist-packages/pandas/core/indexes/base.py\u001b[0m in \u001b[0;36mslice_indexer\u001b[0;34m(self, start, end, step, kind)\u001b[0m\n\u001b[1;32m   5683\u001b[0m         \u001b[0mslice\u001b[0m\u001b[0;34m(\u001b[0m\u001b[0;36m1\u001b[0m\u001b[0;34m,\u001b[0m \u001b[0;36m3\u001b[0m\u001b[0;34m,\u001b[0m \u001b[0;32mNone\u001b[0m\u001b[0;34m)\u001b[0m\u001b[0;34m\u001b[0m\u001b[0;34m\u001b[0m\u001b[0m\n\u001b[1;32m   5684\u001b[0m         \"\"\"\n\u001b[0;32m-> 5685\u001b[0;31m         \u001b[0mstart_slice\u001b[0m\u001b[0;34m,\u001b[0m \u001b[0mend_slice\u001b[0m \u001b[0;34m=\u001b[0m \u001b[0mself\u001b[0m\u001b[0;34m.\u001b[0m\u001b[0mslice_locs\u001b[0m\u001b[0;34m(\u001b[0m\u001b[0mstart\u001b[0m\u001b[0;34m,\u001b[0m \u001b[0mend\u001b[0m\u001b[0;34m,\u001b[0m \u001b[0mstep\u001b[0m\u001b[0;34m=\u001b[0m\u001b[0mstep\u001b[0m\u001b[0;34m)\u001b[0m\u001b[0;34m\u001b[0m\u001b[0;34m\u001b[0m\u001b[0m\n\u001b[0m\u001b[1;32m   5686\u001b[0m \u001b[0;34m\u001b[0m\u001b[0m\n\u001b[1;32m   5687\u001b[0m         \u001b[0;31m# return a slice\u001b[0m\u001b[0;34m\u001b[0m\u001b[0;34m\u001b[0m\u001b[0;34m\u001b[0m\u001b[0m\n",
            "\u001b[0;32m/usr/local/lib/python3.7/dist-packages/pandas/core/indexes/base.py\u001b[0m in \u001b[0;36mslice_locs\u001b[0;34m(self, start, end, step, kind)\u001b[0m\n\u001b[1;32m   5885\u001b[0m         \u001b[0mstart_slice\u001b[0m \u001b[0;34m=\u001b[0m \u001b[0;32mNone\u001b[0m\u001b[0;34m\u001b[0m\u001b[0;34m\u001b[0m\u001b[0m\n\u001b[1;32m   5886\u001b[0m         \u001b[0;32mif\u001b[0m \u001b[0mstart\u001b[0m \u001b[0;32mis\u001b[0m \u001b[0;32mnot\u001b[0m \u001b[0;32mNone\u001b[0m\u001b[0;34m:\u001b[0m\u001b[0;34m\u001b[0m\u001b[0;34m\u001b[0m\u001b[0m\n\u001b[0;32m-> 5887\u001b[0;31m             \u001b[0mstart_slice\u001b[0m \u001b[0;34m=\u001b[0m \u001b[0mself\u001b[0m\u001b[0;34m.\u001b[0m\u001b[0mget_slice_bound\u001b[0m\u001b[0;34m(\u001b[0m\u001b[0mstart\u001b[0m\u001b[0;34m,\u001b[0m \u001b[0;34m\"left\"\u001b[0m\u001b[0;34m)\u001b[0m\u001b[0;34m\u001b[0m\u001b[0;34m\u001b[0m\u001b[0m\n\u001b[0m\u001b[1;32m   5888\u001b[0m         \u001b[0;32mif\u001b[0m \u001b[0mstart_slice\u001b[0m \u001b[0;32mis\u001b[0m \u001b[0;32mNone\u001b[0m\u001b[0;34m:\u001b[0m\u001b[0;34m\u001b[0m\u001b[0;34m\u001b[0m\u001b[0m\n\u001b[1;32m   5889\u001b[0m             \u001b[0mstart_slice\u001b[0m \u001b[0;34m=\u001b[0m \u001b[0;36m0\u001b[0m\u001b[0;34m\u001b[0m\u001b[0;34m\u001b[0m\u001b[0m\n",
            "\u001b[0;32m/usr/local/lib/python3.7/dist-packages/pandas/core/indexes/base.py\u001b[0m in \u001b[0;36mget_slice_bound\u001b[0;34m(self, label, side, kind)\u001b[0m\n\u001b[1;32m   5805\u001b[0m             \u001b[0;32mexcept\u001b[0m \u001b[0mValueError\u001b[0m\u001b[0;34m:\u001b[0m\u001b[0;34m\u001b[0m\u001b[0;34m\u001b[0m\u001b[0m\n\u001b[1;32m   5806\u001b[0m                 \u001b[0;31m# raise the original KeyError\u001b[0m\u001b[0;34m\u001b[0m\u001b[0;34m\u001b[0m\u001b[0;34m\u001b[0m\u001b[0m\n\u001b[0;32m-> 5807\u001b[0;31m                 \u001b[0;32mraise\u001b[0m \u001b[0merr\u001b[0m\u001b[0;34m\u001b[0m\u001b[0;34m\u001b[0m\u001b[0m\n\u001b[0m\u001b[1;32m   5808\u001b[0m \u001b[0;34m\u001b[0m\u001b[0m\n\u001b[1;32m   5809\u001b[0m         \u001b[0;32mif\u001b[0m \u001b[0misinstance\u001b[0m\u001b[0;34m(\u001b[0m\u001b[0mslc\u001b[0m\u001b[0;34m,\u001b[0m \u001b[0mnp\u001b[0m\u001b[0;34m.\u001b[0m\u001b[0mndarray\u001b[0m\u001b[0;34m)\u001b[0m\u001b[0;34m:\u001b[0m\u001b[0;34m\u001b[0m\u001b[0;34m\u001b[0m\u001b[0m\n",
            "\u001b[0;32m/usr/local/lib/python3.7/dist-packages/pandas/core/indexes/base.py\u001b[0m in \u001b[0;36mget_slice_bound\u001b[0;34m(self, label, side, kind)\u001b[0m\n\u001b[1;32m   5799\u001b[0m         \u001b[0;31m# we need to look up the label\u001b[0m\u001b[0;34m\u001b[0m\u001b[0;34m\u001b[0m\u001b[0;34m\u001b[0m\u001b[0m\n\u001b[1;32m   5800\u001b[0m         \u001b[0;32mtry\u001b[0m\u001b[0;34m:\u001b[0m\u001b[0;34m\u001b[0m\u001b[0;34m\u001b[0m\u001b[0m\n\u001b[0;32m-> 5801\u001b[0;31m             \u001b[0mslc\u001b[0m \u001b[0;34m=\u001b[0m \u001b[0mself\u001b[0m\u001b[0;34m.\u001b[0m\u001b[0mget_loc\u001b[0m\u001b[0;34m(\u001b[0m\u001b[0mlabel\u001b[0m\u001b[0;34m)\u001b[0m\u001b[0;34m\u001b[0m\u001b[0;34m\u001b[0m\u001b[0m\n\u001b[0m\u001b[1;32m   5802\u001b[0m         \u001b[0;32mexcept\u001b[0m \u001b[0mKeyError\u001b[0m \u001b[0;32mas\u001b[0m \u001b[0merr\u001b[0m\u001b[0;34m:\u001b[0m\u001b[0;34m\u001b[0m\u001b[0;34m\u001b[0m\u001b[0m\n\u001b[1;32m   5803\u001b[0m             \u001b[0;32mtry\u001b[0m\u001b[0;34m:\u001b[0m\u001b[0;34m\u001b[0m\u001b[0;34m\u001b[0m\u001b[0m\n",
            "\u001b[0;32m/usr/local/lib/python3.7/dist-packages/pandas/core/indexes/base.py\u001b[0m in \u001b[0;36mget_loc\u001b[0;34m(self, key, method, tolerance)\u001b[0m\n\u001b[1;32m   3361\u001b[0m                 \u001b[0;32mreturn\u001b[0m \u001b[0mself\u001b[0m\u001b[0;34m.\u001b[0m\u001b[0m_engine\u001b[0m\u001b[0;34m.\u001b[0m\u001b[0mget_loc\u001b[0m\u001b[0;34m(\u001b[0m\u001b[0mcasted_key\u001b[0m\u001b[0;34m)\u001b[0m\u001b[0;34m\u001b[0m\u001b[0;34m\u001b[0m\u001b[0m\n\u001b[1;32m   3362\u001b[0m             \u001b[0;32mexcept\u001b[0m \u001b[0mKeyError\u001b[0m \u001b[0;32mas\u001b[0m \u001b[0merr\u001b[0m\u001b[0;34m:\u001b[0m\u001b[0;34m\u001b[0m\u001b[0;34m\u001b[0m\u001b[0m\n\u001b[0;32m-> 3363\u001b[0;31m                 \u001b[0;32mraise\u001b[0m \u001b[0mKeyError\u001b[0m\u001b[0;34m(\u001b[0m\u001b[0mkey\u001b[0m\u001b[0;34m)\u001b[0m \u001b[0;32mfrom\u001b[0m \u001b[0merr\u001b[0m\u001b[0;34m\u001b[0m\u001b[0;34m\u001b[0m\u001b[0m\n\u001b[0m\u001b[1;32m   3364\u001b[0m \u001b[0;34m\u001b[0m\u001b[0m\n\u001b[1;32m   3365\u001b[0m         \u001b[0;32mif\u001b[0m \u001b[0mis_scalar\u001b[0m\u001b[0;34m(\u001b[0m\u001b[0mkey\u001b[0m\u001b[0;34m)\u001b[0m \u001b[0;32mand\u001b[0m \u001b[0misna\u001b[0m\u001b[0;34m(\u001b[0m\u001b[0mkey\u001b[0m\u001b[0;34m)\u001b[0m \u001b[0;32mand\u001b[0m \u001b[0;32mnot\u001b[0m \u001b[0mself\u001b[0m\u001b[0;34m.\u001b[0m\u001b[0mhasnans\u001b[0m\u001b[0;34m:\u001b[0m\u001b[0;34m\u001b[0m\u001b[0;34m\u001b[0m\u001b[0m\n",
            "\u001b[0;31mKeyError\u001b[0m: 'Cells_CP_AreaShape_Area'"
          ]
        }
      ]
    },
    {
      "cell_type": "markdown",
      "source": [
        "### Structural features of cytoplasm"
      ],
      "metadata": {
        "id": "B-EmViwjiqCL"
      }
    },
    {
      "cell_type": "code",
      "source": [
        "cytoplasm_structural_2 = stain2.loc[:, \"Cytoplasm_CP_AreaShape_Area\":\"Cytoplasm_CP_AreaShape_Solidity\"]\n",
        "c = cytoplasm_structural_2.shape[1]-1\n",
        "pca = PCA(n_components= c, svd_solver='full')\n",
        "pca.fit(cytoplasm_structural_2)\n",
        "projected_cytoplasm_structural_2 = pca.transform(cytoplasm_structural_2)[:, 0].flatten()\n",
        "plt.plot(np.linspace(1,c,c), pca.explained_variance_ratio_, 'ro-', linewidth=2)\n",
        "plt.title('Scree Plot for structural features of cytoplasm in stain set 2')\n",
        "plt.xlabel('Principal Component')\n",
        "plt.ylabel('Proportion of Explained Variation')\n",
        "plt.show()\n",
        "print(\"Explained variation of the first component:\", pca.explained_variance_ratio_[0])"
      ],
      "metadata": {
        "colab": {
          "base_uri": "https://localhost:8080/",
          "height": 313
        },
        "id": "gUsbzrf4ibug",
        "outputId": "a9e7e664-95d4-4d51-cd81-57bdf0c0bee4"
      },
      "execution_count": null,
      "outputs": [
        {
          "output_type": "display_data",
          "data": {
            "text/plain": [
              "<Figure size 432x288 with 1 Axes>"
            ],
            "image/png": "[encoded data removed]"
          },
          "metadata": {
            "needs_background": "light"
          }
        },
        {
          "output_type": "stream",
          "name": "stdout",
          "text": [
            "Explained variation of the first component: 0.9928789421257035\n"
          ]
        }
      ]
    },
    {
      "cell_type": "markdown",
      "source": [
        "### Structural features of nuclei"
      ],
      "metadata": {
        "id": "SyZhawuziuHH"
      }
    },
    {
      "cell_type": "code",
      "source": [
        "nuclei_structural_2 = stain2.loc[:, \"Nuclei_CP_AreaShape_Area\":\"Nuclei_CP_AreaShape_Solidity\"]\n",
        "c = nuclei_structural_2.shape[1]-1\n",
        "pca = PCA(n_components= c, svd_solver='full')\n",
        "pca.fit(nuclei_structural_2)\n",
        "projected_nuclei_structural_2 = pca.transform(nuclei_structural_2)[:, 0].flatten()\n",
        "plt.plot(np.linspace(1,c,c), pca.explained_variance_ratio_, 'ro-', linewidth=2)\n",
        "plt.title('Scree Plot for structural features of nuclei in stain set 2')\n",
        "plt.xlabel('Principal Component')\n",
        "plt.ylabel('Proportion of Explained Variation')\n",
        "plt.show()\n",
        "print(\"Explained variation of the first component:\", pca.explained_variance_ratio_[0])"
      ],
      "metadata": {
        "colab": {
          "base_uri": "https://localhost:8080/",
          "height": 313
        },
        "id": "UPIaI8TUiwJ1",
        "outputId": "bc25f5e0-aff9-48ee-aad9-1acb0147f521"
      },
      "execution_count": null,
      "outputs": [
        {
          "output_type": "display_data",
          "data": {
            "text/plain": [
              "<Figure size 432x288 with 1 Axes>"
            ],
            "image/png": "[encoded data removed]"
          },
          "metadata": {
            "needs_background": "light"
          }
        },
        {
          "output_type": "stream",
          "name": "stdout",
          "text": [
            "Explained variation of the first component: 0.9905250453318581\n"
          ]
        }
      ]
    },
    {
      "cell_type": "markdown",
      "source": [
        "### Stainset 2 with four variables "
      ],
      "metadata": {
        "id": "3A2vgAX3jAst"
      }
    },
    {
      "cell_type": "code",
      "source": [
        "df2 = pd.DataFrame(np.array([projected_cell_structural_2, projected_cytoplasm_structural_2, projected_nuclei_structural_2, stain2[\"Spot_PA_SpotCellCount\"].values])).T\n",
        "df2.columns = [\"cell_structure\", \"cytoplasm_structure\", 'nuclei_structure', 'cell_count']\n",
        "df2.corr(method = \"spearman\")"
      ],
      "metadata": {
        "colab": {
          "base_uri": "https://localhost:8080/",
          "height": 175
        },
        "id": "i8GOwJ7AjIKU",
        "outputId": "3632f91e-9fff-448e-c99a-9a54fe389224"
      },
      "execution_count": null,
      "outputs": [
        {
          "output_type": "execute_result",
          "data": {
            "text/plain": [
              "                     cell_structure  cytoplasm_structure  nuclei_structure  \\\n",
              "cell_structure             1.000000             0.899118          0.858409   \n",
              "cytoplasm_structure        0.899118             1.000000          0.704607   \n",
              "nuclei_structure           0.858409             0.704607          1.000000   \n",
              "cell_count                -0.632121            -0.544414         -0.622740   \n",
              "\n",
              "                     cell_count  \n",
              "cell_structure        -0.632121  \n",
              "cytoplasm_structure   -0.544414  \n",
              "nuclei_structure      -0.622740  \n",
              "cell_count             1.000000  "
            ],
            "text/html": [
              "\n",
              "  <div id=\"df-b3250932-6a1c-4541-87b2-ddd402391b3a\">\n",
              "    <div class=\"colab-df-container\">\n",
              "      <div>\n",
              "<style scoped>\n",
              "    .dataframe tbody tr th:only-of-type {\n",
              "        vertical-align: middle;\n",
              "    }\n",
              "\n",
              "    .dataframe tbody tr th {\n",
              "        vertical-align: top;\n",
              "    }\n",
              "\n",
              "    .dataframe thead th {\n",
              "        text-align: right;\n",
              "    }\n",
              "</style>\n",
              "<table border=\"1\" class=\"dataframe\">\n",
              "  <thead>\n",
              "    <tr style=\"text-align: right;\">\n",
              "      <th></th>\n",
              "      <th>cell_structure</th>\n",
              "      <th>cytoplasm_structure</th>\n",
              "      <th>nuclei_structure</th>\n",
              "      <th>cell_count</th>\n",
              "    </tr>\n",
              "  </thead>\n",
              "  <tbody>\n",
              "    <tr>\n",
              "      <th>cell_structure</th>\n",
              "      <td>1.000000</td>\n",
              "      <td>0.899118</td>\n",
              "      <td>0.858409</td>\n",
              "      <td>-0.632121</td>\n",
              "    </tr>\n",
              "    <tr>\n",
              "      <th>cytoplasm_structure</th>\n",
              "      <td>0.899118</td>\n",
              "      <td>1.000000</td>\n",
              "      <td>0.704607</td>\n",
              "      <td>-0.544414</td>\n",
              "    </tr>\n",
              "    <tr>\n",
              "      <th>nuclei_structure</th>\n",
              "      <td>0.858409</td>\n",
              "      <td>0.704607</td>\n",
              "      <td>1.000000</td>\n",
              "      <td>-0.622740</td>\n",
              "    </tr>\n",
              "    <tr>\n",
              "      <th>cell_count</th>\n",
              "      <td>-0.632121</td>\n",
              "      <td>-0.544414</td>\n",
              "      <td>-0.622740</td>\n",
              "      <td>1.000000</td>\n",
              "    </tr>\n",
              "  </tbody>\n",
              "</table>\n",
              "</div>\n",
              "      <button class=\"colab-df-convert\" onclick=\"convertToInteractive('df-b3250932-6a1c-4541-87b2-ddd402391b3a')\"\n",
              "              title=\"Convert this dataframe to an interactive table.\"\n",
              "              style=\"display:none;\">\n",
              "        \n",
              "  <svg xmlns=\"http://www.w3.org/2000/svg\" height=\"24px\"viewBox=\"0 0 24 24\"\n",
              "       width=\"24px\">\n",
              "    <path d=\"M0 0h24v24H0V0z\" fill=\"none\"/>\n",
              "    <path d=\"M18.56 5.44l.94 2.06.94-2.06 2.06-.94-2.06-.94-.94-2.06-.94 2.06-2.06.94zm-11 1L8.5 8.5l.94-2.06 2.06-.94-2.06-.94L8.5 2.5l-.94 2.06-2.06.94zm10 10l.94 2.06.94-2.06 2.06-.94-2.06-.94-.94-2.06-.94 2.06-2.06.94z\"/><path d=\"M17.41 7.96l-1.37-1.37c-.4-.4-.92-.59-1.43-.59-.52 0-1.04.2-1.43.59L10.3 9.45l-7.72 7.72c-.78.78-.78 2.05 0 2.83L4 21.41c.39.39.9.59 1.41.59.51 0 1.02-.2 1.41-.59l7.78-7.78 2.81-2.81c.8-.78.8-2.07 0-2.86zM5.41 20L4 18.59l7.72-7.72 1.47 1.35L5.41 20z\"/>\n",
              "  </svg>\n",
              "      </button>\n",
              "      \n",
              "  <style>\n",
              "    .colab-df-container {\n",
              "      display:flex;\n",
              "      flex-wrap:wrap;\n",
              "      gap: 12px;\n",
              "    }\n",
              "\n",
              "    .colab-df-convert {\n",
              "      background-color: #E8F0FE;\n",
              "      border: none;\n",
              "      border-radius: 50%;\n",
              "      cursor: pointer;\n",
              "      display: none;\n",
              "      fill: #1967D2;\n",
              "      height: 32px;\n",
              "      padding: 0 0 0 0;\n",
              "      width: 32px;\n",
              "    }\n",
              "\n",
              "    .colab-df-convert:hover {\n",
              "      background-color: #E2EBFA;\n",
              "      box-shadow: 0px 1px 2px rgba(60, 64, 67, 0.3), 0px 1px 3px 1px rgba(60, 64, 67, 0.15);\n",
              "      fill: #174EA6;\n",
              "    }\n",
              "\n",
              "    [theme=dark] .colab-df-convert {\n",
              "      background-color: #3B4455;\n",
              "      fill: #D2E3FC;\n",
              "    }\n",
              "\n",
              "    [theme=dark] .colab-df-convert:hover {\n",
              "      background-color: #434B5C;\n",
              "      box-shadow: 0px 1px 3px 1px rgba(0, 0, 0, 0.15);\n",
              "      filter: drop-shadow(0px 1px 2px rgba(0, 0, 0, 0.3));\n",
              "      fill: #FFFFFF;\n",
              "    }\n",
              "  </style>\n",
              "\n",
              "      <script>\n",
              "        const buttonEl =\n",
              "          document.querySelector('#df-b3250932-6a1c-4541-87b2-ddd402391b3a button.colab-df-convert');\n",
              "        buttonEl.style.display =\n",
              "          google.colab.kernel.accessAllowed ? 'block' : 'none';\n",
              "\n",
              "        async function convertToInteractive(key) {\n",
              "          const element = document.querySelector('#df-b3250932-6a1c-4541-87b2-ddd402391b3a');\n",
              "          const dataTable =\n",
              "            await google.colab.kernel.invokeFunction('convertToInteractive',\n",
              "                                                     [key], {});\n",
              "          if (!dataTable) return;\n",
              "\n",
              "          const docLinkHtml = 'Like what you see? Visit the ' +\n",
              "            '<a target=\"_blank\" href=https://colab.research.google.com/notebooks/data_table.ipynb>data table notebook</a>'\n",
              "            + ' to learn more about interactive tables.';\n",
              "          element.innerHTML = '';\n",
              "          dataTable['output_type'] = 'display_data';\n",
              "          await google.colab.output.renderOutput(dataTable, element);\n",
              "          const docLink = document.createElement('div');\n",
              "          docLink.innerHTML = docLinkHtml;\n",
              "          element.appendChild(docLink);\n",
              "        }\n",
              "      </script>\n",
              "    </div>\n",
              "  </div>\n",
              "  "
            ]
          },
          "metadata": {},
          "execution_count": 170
        }
      ]
    },
    {
      "cell_type": "code",
      "source": [
        "sns.heatmap(df1.corr(method = \"spearman\"))"
      ],
      "metadata": {
        "colab": {
          "base_uri": "https://localhost:8080/",
          "height": 379
        },
        "id": "iTEnUV08jWfy",
        "outputId": "315839be-f5cd-48d9-be41-244b719a79b3"
      },
      "execution_count": null,
      "outputs": [
        {
          "output_type": "execute_result",
          "data": {
            "text/plain": [
              "<matplotlib.axes._subplots.AxesSubplot at 0x7f99ffb55b10>"
            ]
          },
          "metadata": {},
          "execution_count": 171
        },
        {
          "output_type": "display_data",
          "data": {
            "text/plain": [
              "<Figure size 432x288 with 2 Axes>"
            ],
            "image/png": "[encoded data removed]"
          },
          "metadata": {
            "needs_background": "light"
          }
        }
      ]
    },
    {
      "cell_type": "code",
      "source": [
        "df2[\"ECMp\"] = stain2[\"ECMp\"].values\n",
        "df2[\"Ligand1\"] = stain2[\"Ligand1\"].values"
      ],
      "metadata": {
        "id": "Fq9uYZWKyB5T"
      },
      "execution_count": null,
      "outputs": []
    },
    {
      "cell_type": "markdown",
      "source": [
        "## Stain set 3"
      ],
      "metadata": {
        "id": "rMl37dqijq0E"
      }
    },
    {
      "cell_type": "markdown",
      "source": [
        "### Structural features of nuclei"
      ],
      "metadata": {
        "id": "nP4va8xAkQ8d"
      }
    },
    {
      "cell_type": "code",
      "source": [
        "nuclei_structural_3 = stain3.loc[:, \"Nuclei_CP_AreaShape_Area\":\"Nuclei_CP_AreaShape_Solidity\"]\n",
        "c = nuclei_structural_3.shape[1]-1\n",
        "pca = PCA(n_components= c, svd_solver='full')\n",
        "pca.fit(nuclei_structural_3)\n",
        "projected_nuclei_structural_3 = pca.transform(nuclei_structural_3)[:, 0].flatten()\n",
        "plt.plot(np.linspace(1,c,c), pca.explained_variance_ratio_, 'ro-', linewidth=2)\n",
        "plt.title('Scree Plot for structural features of nuclei in stain set 3')\n",
        "plt.xlabel('Principal Component')\n",
        "plt.ylabel('Proportion of Explained Variation')\n",
        "plt.show()\n",
        "print(\"Explained variation of the first component:\", pca.explained_variance_ratio_[0])"
      ],
      "metadata": {
        "colab": {
          "base_uri": "https://localhost:8080/",
          "height": 313
        },
        "id": "HCBdReKUjtWk",
        "outputId": "52d81281-d265-4fdb-9916-6939a052235b"
      },
      "execution_count": null,
      "outputs": [
        {
          "output_type": "display_data",
          "data": {
            "text/plain": [
              "<Figure size 432x288 with 1 Axes>"
            ],
            "image/png": "[encoded data removed]"
          },
          "metadata": {
            "needs_background": "light"
          }
        },
        {
          "output_type": "stream",
          "name": "stdout",
          "text": [
            "Explained variation of the first component: 0.9949555556230905\n"
          ]
        }
      ]
    },
    {
      "cell_type": "markdown",
      "source": [
        "### Textural features of nuclei"
      ],
      "metadata": {
        "id": "wLSdSzpKkLmy"
      }
    },
    {
      "cell_type": "code",
      "source": [
        "nuclei_textural_3 = stain3.loc[:,\"Nuclei_CP_Texture_AngularSecondMoment_Fibrillarin_3_0\": \"Nuclei_CP_Texture_Variance_Fibrillarin_3_90\" ]\n",
        "c = nuclei_textural_3.shape[1]-1\n",
        "pca = PCA(n_components= c, svd_solver='full')\n",
        "pca.fit(nuclei_textural_3)\n",
        "projected_nuclei_textural_3 = pca.transform(nuclei_textural_3)[:, 0].flatten()\n",
        "plt.plot(np.linspace(1,c,c), pca.explained_variance_ratio_, 'ro-', linewidth=2)\n",
        "plt.title('Scree Plot for textural features of nuclei in stain set 3')\n",
        "plt.xlabel('Principal Component')\n",
        "plt.ylabel('Proportion of Explained Variation')\n",
        "plt.show()\n",
        "print(\"Explained variation of the first component:\", pca.explained_variance_ratio_[:5])"
      ],
      "metadata": {
        "colab": {
          "base_uri": "https://localhost:8080/",
          "height": 331
        },
        "id": "kv0ielkwkPJX",
        "outputId": "8ce4208a-5f23-466d-d1f5-98eb052a7873"
      },
      "execution_count": null,
      "outputs": [
        {
          "output_type": "display_data",
          "data": {
            "text/plain": [
              "<Figure size 432x288 with 1 Axes>"
            ],
            "image/png": "[encoded data removed]"
          },
          "metadata": {
            "needs_background": "light"
          }
        },
        {
          "output_type": "stream",
          "name": "stdout",
          "text": [
            "Explained variation of the first component: [8.59074757e-01 1.09376556e-01 2.87491695e-02 1.12545018e-03\n",
            " 4.58671672e-04]\n"
          ]
        }
      ]
    },
    {
      "cell_type": "markdown",
      "source": [
        "### Stainset 3 with threee variables "
      ],
      "metadata": {
        "id": "tKxnJGeAk1i9"
      }
    },
    {
      "cell_type": "code",
      "source": [
        "df3 = pd.DataFrame(np.array([ projected_nuclei_structural_3, projected_nuclei_textural_3, stain3[\"Spot_PA_SpotCellCount\"].values])).T\n",
        "df3.columns = ['nuclei_structure', \"nuclei_textural\",'cell_count']\n",
        "df3.corr(method = \"spearman\")"
      ],
      "metadata": {
        "colab": {
          "base_uri": "https://localhost:8080/",
          "height": 206
        },
        "id": "DJdWske3k1xi",
        "outputId": "ac15d5fd-faa3-41ad-fb6f-38f0a0dda955"
      },
      "execution_count": null,
      "outputs": [
        {
          "output_type": "execute_result",
          "data": {
            "text/plain": [
              "   nuclei_structure  nuclei_textural  cell_count\n",
              "0        513.108773         0.334724        81.0\n",
              "1         48.566925         0.446305       516.0\n",
              "2         20.540976         0.346220       481.0\n",
              "3        159.814222        -0.126905       375.0\n",
              "4        376.978648        -0.320574       287.0"
            ],
            "text/html": [
              "\n",
              "  <div id=\"df-4acc6f61-7836-476c-bc9c-b700e9795683\">\n",
              "    <div class=\"colab-df-container\">\n",
              "      <div>\n",
              "<style scoped>\n",
              "    .dataframe tbody tr th:only-of-type {\n",
              "        vertical-align: middle;\n",
              "    }\n",
              "\n",
              "    .dataframe tbody tr th {\n",
              "        vertical-align: top;\n",
              "    }\n",
              "\n",
              "    .dataframe thead th {\n",
              "        text-align: right;\n",
              "    }\n",
              "</style>\n",
              "<table border=\"1\" class=\"dataframe\">\n",
              "  <thead>\n",
              "    <tr style=\"text-align: right;\">\n",
              "      <th></th>\n",
              "      <th>nuclei_structure</th>\n",
              "      <th>nuclei_textural</th>\n",
              "      <th>cell_count</th>\n",
              "    </tr>\n",
              "  </thead>\n",
              "  <tbody>\n",
              "    <tr>\n",
              "      <th>0</th>\n",
              "      <td>513.108773</td>\n",
              "      <td>0.334724</td>\n",
              "      <td>81.0</td>\n",
              "    </tr>\n",
              "    <tr>\n",
              "      <th>1</th>\n",
              "      <td>48.566925</td>\n",
              "      <td>0.446305</td>\n",
              "      <td>516.0</td>\n",
              "    </tr>\n",
              "    <tr>\n",
              "      <th>2</th>\n",
              "      <td>20.540976</td>\n",
              "      <td>0.346220</td>\n",
              "      <td>481.0</td>\n",
              "    </tr>\n",
              "    <tr>\n",
              "      <th>3</th>\n",
              "      <td>159.814222</td>\n",
              "      <td>-0.126905</td>\n",
              "      <td>375.0</td>\n",
              "    </tr>\n",
              "    <tr>\n",
              "      <th>4</th>\n",
              "      <td>376.978648</td>\n",
              "      <td>-0.320574</td>\n",
              "      <td>287.0</td>\n",
              "    </tr>\n",
              "  </tbody>\n",
              "</table>\n",
              "</div>\n",
              "      <button class=\"colab-df-convert\" onclick=\"convertToInteractive('df-4acc6f61-7836-476c-bc9c-b700e9795683')\"\n",
              "              title=\"Convert this dataframe to an interactive table.\"\n",
              "              style=\"display:none;\">\n",
              "        \n",
              "  <svg xmlns=\"http://www.w3.org/2000/svg\" height=\"24px\"viewBox=\"0 0 24 24\"\n",
              "       width=\"24px\">\n",
              "    <path d=\"M0 0h24v24H0V0z\" fill=\"none\"/>\n",
              "    <path d=\"M18.56 5.44l.94 2.06.94-2.06 2.06-.94-2.06-.94-.94-2.06-.94 2.06-2.06.94zm-11 1L8.5 8.5l.94-2.06 2.06-.94-2.06-.94L8.5 2.5l-.94 2.06-2.06.94zm10 10l.94 2.06.94-2.06 2.06-.94-2.06-.94-.94-2.06-.94 2.06-2.06.94z\"/><path d=\"M17.41 7.96l-1.37-1.37c-.4-.4-.92-.59-1.43-.59-.52 0-1.04.2-1.43.59L10.3 9.45l-7.72 7.72c-.78.78-.78 2.05 0 2.83L4 21.41c.39.39.9.59 1.41.59.51 0 1.02-.2 1.41-.59l7.78-7.78 2.81-2.81c.8-.78.8-2.07 0-2.86zM5.41 20L4 18.59l7.72-7.72 1.47 1.35L5.41 20z\"/>\n",
              "  </svg>\n",
              "      </button>\n",
              "      \n",
              "  <style>\n",
              "    .colab-df-container {\n",
              "      display:flex;\n",
              "      flex-wrap:wrap;\n",
              "      gap: 12px;\n",
              "    }\n",
              "\n",
              "    .colab-df-convert {\n",
              "      background-color: #E8F0FE;\n",
              "      border: none;\n",
              "      border-radius: 50%;\n",
              "      cursor: pointer;\n",
              "      display: none;\n",
              "      fill: #1967D2;\n",
              "      height: 32px;\n",
              "      padding: 0 0 0 0;\n",
              "      width: 32px;\n",
              "    }\n",
              "\n",
              "    .colab-df-convert:hover {\n",
              "      background-color: #E2EBFA;\n",
              "      box-shadow: 0px 1px 2px rgba(60, 64, 67, 0.3), 0px 1px 3px 1px rgba(60, 64, 67, 0.15);\n",
              "      fill: #174EA6;\n",
              "    }\n",
              "\n",
              "    [theme=dark] .colab-df-convert {\n",
              "      background-color: #3B4455;\n",
              "      fill: #D2E3FC;\n",
              "    }\n",
              "\n",
              "    [theme=dark] .colab-df-convert:hover {\n",
              "      background-color: #434B5C;\n",
              "      box-shadow: 0px 1px 3px 1px rgba(0, 0, 0, 0.15);\n",
              "      filter: drop-shadow(0px 1px 2px rgba(0, 0, 0, 0.3));\n",
              "      fill: #FFFFFF;\n",
              "    }\n",
              "  </style>\n",
              "\n",
              "      <script>\n",
              "        const buttonEl =\n",
              "          document.querySelector('#df-4acc6f61-7836-476c-bc9c-b700e9795683 button.colab-df-convert');\n",
              "        buttonEl.style.display =\n",
              "          google.colab.kernel.accessAllowed ? 'block' : 'none';\n",
              "\n",
              "        async function convertToInteractive(key) {\n",
              "          const element = document.querySelector('#df-4acc6f61-7836-476c-bc9c-b700e9795683');\n",
              "          const dataTable =\n",
              "            await google.colab.kernel.invokeFunction('convertToInteractive',\n",
              "                                                     [key], {});\n",
              "          if (!dataTable) return;\n",
              "\n",
              "          const docLinkHtml = 'Like what you see? Visit the ' +\n",
              "            '<a target=\"_blank\" href=https://colab.research.google.com/notebooks/data_table.ipynb>data table notebook</a>'\n",
              "            + ' to learn more about interactive tables.';\n",
              "          element.innerHTML = '';\n",
              "          dataTable['output_type'] = 'display_data';\n",
              "          await google.colab.output.renderOutput(dataTable, element);\n",
              "          const docLink = document.createElement('div');\n",
              "          docLink.innerHTML = docLinkHtml;\n",
              "          element.appendChild(docLink);\n",
              "        }\n",
              "      </script>\n",
              "    </div>\n",
              "  </div>\n",
              "  "
            ]
          },
          "metadata": {},
          "execution_count": 180
        }
      ]
    },
    {
      "cell_type": "code",
      "source": [
        "df3[\"ECMp\"] = stain3[\"ECMp\"].values\n",
        "df3[\"Ligand1\"] = stain3[\"Ligand1\"].values"
      ],
      "metadata": {
        "id": "Eif4IF9yyItO"
      },
      "execution_count": null,
      "outputs": []
    },
    {
      "cell_type": "markdown",
      "source": [
        "## Two Sample Tests"
      ],
      "metadata": {
        "id": "YyCXPvtf0xC_"
      }
    },
    {
      "cell_type": "markdown",
      "source": [
        "### Cell Count"
      ],
      "metadata": {
        "id": "GcuCmIFU1tW4"
      }
    },
    {
      "cell_type": "code",
      "source": [
        "print(stats.anderson_ksamp([df1[\"cell_count\"], df2[\"cell_count\"]]))\n",
        "print(stats.anderson_ksamp([df1[\"cell_count\"], df3[\"cell_count\"]]))\n",
        "print(stats.anderson_ksamp([df2[\"cell_count\"], df3[\"cell_count\"]]))"
      ],
      "metadata": {
        "colab": {
          "base_uri": "https://localhost:8080/"
        },
        "id": "c5VByGbs01fX",
        "outputId": "41e83d6c-7155-4e6c-9df5-3239a4d58e8d"
      },
      "execution_count": null,
      "outputs": [
        {
          "output_type": "stream",
          "name": "stdout",
          "text": [
            "Anderson_ksampResult(statistic=33724.36098275931, critical_values=array([0.325, 1.226, 1.961, 2.718, 3.752, 4.592, 6.546]), significance_level=0.001)\n",
            "Anderson_ksampResult(statistic=37580.531223117396, critical_values=array([0.325, 1.226, 1.961, 2.718, 3.752, 4.592, 6.546]), significance_level=0.001)\n",
            "Anderson_ksampResult(statistic=31708.702844502066, critical_values=array([0.325, 1.226, 1.961, 2.718, 3.752, 4.592, 6.546]), significance_level=0.001)\n"
          ]
        },
        {
          "output_type": "stream",
          "name": "stderr",
          "text": [
            "/usr/local/lib/python3.7/dist-packages/ipykernel_launcher.py:1: UserWarning: p-value floored: true value smaller than 0.001\n",
            "  \"\"\"Entry point for launching an IPython kernel.\n",
            "/usr/local/lib/python3.7/dist-packages/ipykernel_launcher.py:2: UserWarning: p-value floored: true value smaller than 0.001\n",
            "  \n",
            "/usr/local/lib/python3.7/dist-packages/ipykernel_launcher.py:3: UserWarning: p-value floored: true value smaller than 0.001\n",
            "  This is separate from the ipykernel package so we can avoid doing imports until\n"
          ]
        }
      ]
    },
    {
      "cell_type": "markdown",
      "source": [
        "### Cell Structural"
      ],
      "metadata": {
        "id": "edsUQAXU1voM"
      }
    },
    {
      "cell_type": "code",
      "source": [
        "print(stats.kstest(df1[\"cell_structure\"], df2[\"cell_structure\"]))"
      ],
      "metadata": {
        "colab": {
          "base_uri": "https://localhost:8080/"
        },
        "id": "dJtT-39q12PZ",
        "outputId": "ac98cc74-4b94-46d7-9ba4-2533cd365254"
      },
      "execution_count": null,
      "outputs": [
        {
          "output_type": "stream",
          "name": "stdout",
          "text": [
            "KstestResult(statistic=0.4519106503714688, pvalue=0.0)\n"
          ]
        }
      ]
    },
    {
      "cell_type": "markdown",
      "source": [
        "### Cytoplasm Structure"
      ],
      "metadata": {
        "id": "22P1i33F2CmR"
      }
    },
    {
      "cell_type": "code",
      "source": [
        "print(stats.kstest(df1[\"cytoplasm_structure\"], df2[\"cytoplasm_structure\"]))"
      ],
      "metadata": {
        "colab": {
          "base_uri": "https://localhost:8080/"
        },
        "id": "ccKBTYSx2FQD",
        "outputId": "955bb8d5-e246-4c33-c441-e3dac449897e"
      },
      "execution_count": null,
      "outputs": [
        {
          "output_type": "stream",
          "name": "stdout",
          "text": [
            "KstestResult(statistic=0.5857101414834666, pvalue=0.0)\n"
          ]
        }
      ]
    },
    {
      "cell_type": "markdown",
      "source": [
        "### Nuclei Structure"
      ],
      "metadata": {
        "id": "mf6oGkGO2JjE"
      }
    },
    {
      "cell_type": "code",
      "source": [
        "print(stats.kstest(df1[\"nuclei_structure\"], df2[\"nuclei_structure\"]))\n",
        "print(stats.kstest(df1[\"nuclei_structure\"], df3[\"nuclei_structure\"]))\n",
        "print(stats.kstest(df2[\"nuclei_structure\"], df3[\"nuclei_structure\"]))"
      ],
      "metadata": {
        "colab": {
          "base_uri": "https://localhost:8080/"
        },
        "id": "1U6glBr22LZA",
        "outputId": "a70176e2-10fb-4ce2-afe8-d9bbf4e24eb8"
      },
      "execution_count": null,
      "outputs": [
        {
          "output_type": "stream",
          "name": "stdout",
          "text": [
            "KstestResult(statistic=0.2120018348499222, pvalue=0.0)\n",
            "KstestResult(statistic=0.15638960500945273, pvalue=0.0)\n",
            "KstestResult(statistic=0.05686563283664008, pvalue=3.0475965115332716e-63)\n"
          ]
        }
      ]
    },
    {
      "cell_type": "code",
      "source": [],
      "metadata": {
        "id": "PYXUm5uirMru"
      },
      "execution_count": null,
      "outputs": []
    },
    {
      "cell_type": "markdown",
      "source": [
        "Correlation Analysis"
      ],
      "metadata": {
        "id": "CbxpOG8mrM9r"
      }
    },
    {
      "cell_type": "code",
      "source": [
        "sns.heatmap(stain1.loc[:, [\"Cells_CP_AreaShape_Area\", \"Cytoplasm_CP_AreaShape_Area\", \"Nuclei_CP_AreaShape_Area\", \"Spot_PA_SpotCellCount\"]].corr(method = \"spearman\"), annot = True)\n",
        "plt.title(\"Stain Set 1\")\n",
        "plt.savefig(\"corr1\", bbox_inches = \"tight\")"
      ],
      "metadata": {
        "colab": {
          "base_uri": "https://localhost:8080/",
          "height": 429
        },
        "id": "8-OrF75irOjQ",
        "outputId": "e1e52e7f-eadf-4a5d-c94f-cfd2b5e28749"
      },
      "execution_count": null,
      "outputs": [
        {
          "output_type": "display_data",
          "data": {
            "text/plain": [
              "<Figure size 432x288 with 2 Axes>"
            ],
            "image/png": "[encoded data removed]"
          },
          "metadata": {
            "needs_background": "light"
          }
        }
      ]
    },
    {
      "cell_type": "code",
      "source": [
        "sns.heatmap(stain3.loc[:, [\"Cells_CP_AreaShape_Area\", \"Cytoplasm_CP_AreaShape_Area\", \"Nuclei_CP_AreaShape_Area\", \"Spot_PA_SpotCellCount\"]].corr(method = \"spearman\"), annot = True)\n",
        "plt.title(\"Stain Set 3\")\n",
        "plt.savefig(\"corr3\", bbox_inches = \"tight\")"
      ],
      "metadata": {
        "colab": {
          "base_uri": "https://localhost:8080/",
          "height": 429
        },
        "id": "Vim3k5RhsOQY",
        "outputId": "08ce2aa8-ae1a-49af-e55d-9ce5b75fbe32"
      },
      "execution_count": null,
      "outputs": [
        {
          "output_type": "display_data",
          "data": {
            "text/plain": [
              "<Figure size 432x288 with 2 Axes>"
            ],
            "image/png": "[encoded data removed]"
          },
          "metadata": {
            "needs_background": "light"
          }
        }
      ]
    },
    {
      "cell_type": "markdown",
      "source": [],
      "metadata": {
        "id": "7lIaNE12s1mC"
      }
    },
    {
      "cell_type": "code",
      "source": [
        "stain3.loc[:, [\"Cells_CP_AreaShape_Area\", \"Cytoplasm_CP_AreaShape_Area\", \"Nuclei_CP_AreaShape_Area\", \"Spot_PA_SpotCellCount\"]].corr(method = \"spearman\")"
      ],
      "metadata": {
        "colab": {
          "base_uri": "https://localhost:8080/",
          "height": 175
        },
        "id": "L5ZcFFjrs16V",
        "outputId": "1b448712-8611-4327-dd86-5d1047653758"
      },
      "execution_count": null,
      "outputs": [
        {
          "output_type": "execute_result",
          "data": {
            "text/plain": [
              "                             Cells_CP_AreaShape_Area  \\\n",
              "Cells_CP_AreaShape_Area                     1.000000   \n",
              "Cytoplasm_CP_AreaShape_Area                 0.920252   \n",
              "Nuclei_CP_AreaShape_Area                    0.680497   \n",
              "Spot_PA_SpotCellCount                      -0.657078   \n",
              "\n",
              "                             Cytoplasm_CP_AreaShape_Area  \\\n",
              "Cells_CP_AreaShape_Area                         0.920252   \n",
              "Cytoplasm_CP_AreaShape_Area                     1.000000   \n",
              "Nuclei_CP_AreaShape_Area                        0.427247   \n",
              "Spot_PA_SpotCellCount                          -0.499337   \n",
              "\n",
              "                             Nuclei_CP_AreaShape_Area  Spot_PA_SpotCellCount  \n",
              "Cells_CP_AreaShape_Area                      0.680497              -0.657078  \n",
              "Cytoplasm_CP_AreaShape_Area                  0.427247              -0.499337  \n",
              "Nuclei_CP_AreaShape_Area                     1.000000              -0.736881  \n",
              "Spot_PA_SpotCellCount                       -0.736881               1.000000  "
            ],
            "text/html": [
              "\n",
              "  <div id=\"df-140b69bc-2452-4185-a6dd-22daa68bf682\">\n",
              "    <div class=\"colab-df-container\">\n",
              "      <div>\n",
              "<style scoped>\n",
              "    .dataframe tbody tr th:only-of-type {\n",
              "        vertical-align: middle;\n",
              "    }\n",
              "\n",
              "    .dataframe tbody tr th {\n",
              "        vertical-align: top;\n",
              "    }\n",
              "\n",
              "    .dataframe thead th {\n",
              "        text-align: right;\n",
              "    }\n",
              "</style>\n",
              "<table border=\"1\" class=\"dataframe\">\n",
              "  <thead>\n",
              "    <tr style=\"text-align: right;\">\n",
              "      <th></th>\n",
              "      <th>Cells_CP_AreaShape_Area</th>\n",
              "      <th>Cytoplasm_CP_AreaShape_Area</th>\n",
              "      <th>Nuclei_CP_AreaShape_Area</th>\n",
              "      <th>Spot_PA_SpotCellCount</th>\n",
              "    </tr>\n",
              "  </thead>\n",
              "  <tbody>\n",
              "    <tr>\n",
              "      <th>Cells_CP_AreaShape_Area</th>\n",
              "      <td>1.000000</td>\n",
              "      <td>0.920252</td>\n",
              "      <td>0.680497</td>\n",
              "      <td>-0.657078</td>\n",
              "    </tr>\n",
              "    <tr>\n",
              "      <th>Cytoplasm_CP_AreaShape_Area</th>\n",
              "      <td>0.920252</td>\n",
              "      <td>1.000000</td>\n",
              "      <td>0.427247</td>\n",
              "      <td>-0.499337</td>\n",
              "    </tr>\n",
              "    <tr>\n",
              "      <th>Nuclei_CP_AreaShape_Area</th>\n",
              "      <td>0.680497</td>\n",
              "      <td>0.427247</td>\n",
              "      <td>1.000000</td>\n",
              "      <td>-0.736881</td>\n",
              "    </tr>\n",
              "    <tr>\n",
              "      <th>Spot_PA_SpotCellCount</th>\n",
              "      <td>-0.657078</td>\n",
              "      <td>-0.499337</td>\n",
              "      <td>-0.736881</td>\n",
              "      <td>1.000000</td>\n",
              "    </tr>\n",
              "  </tbody>\n",
              "</table>\n",
              "</div>\n",
              "      <button class=\"colab-df-convert\" onclick=\"convertToInteractive('df-140b69bc-2452-4185-a6dd-22daa68bf682')\"\n",
              "              title=\"Convert this dataframe to an interactive table.\"\n",
              "              style=\"display:none;\">\n",
              "        \n",
              "  <svg xmlns=\"http://www.w3.org/2000/svg\" height=\"24px\"viewBox=\"0 0 24 24\"\n",
              "       width=\"24px\">\n",
              "    <path d=\"M0 0h24v24H0V0z\" fill=\"none\"/>\n",
              "    <path d=\"M18.56 5.44l.94 2.06.94-2.06 2.06-.94-2.06-.94-.94-2.06-.94 2.06-2.06.94zm-11 1L8.5 8.5l.94-2.06 2.06-.94-2.06-.94L8.5 2.5l-.94 2.06-2.06.94zm10 10l.94 2.06.94-2.06 2.06-.94-2.06-.94-.94-2.06-.94 2.06-2.06.94z\"/><path d=\"M17.41 7.96l-1.37-1.37c-.4-.4-.92-.59-1.43-.59-.52 0-1.04.2-1.43.59L10.3 9.45l-7.72 7.72c-.78.78-.78 2.05 0 2.83L4 21.41c.39.39.9.59 1.41.59.51 0 1.02-.2 1.41-.59l7.78-7.78 2.81-2.81c.8-.78.8-2.07 0-2.86zM5.41 20L4 18.59l7.72-7.72 1.47 1.35L5.41 20z\"/>\n",
              "  </svg>\n",
              "      </button>\n",
              "      \n",
              "  <style>\n",
              "    .colab-df-container {\n",
              "      display:flex;\n",
              "      flex-wrap:wrap;\n",
              "      gap: 12px;\n",
              "    }\n",
              "\n",
              "    .colab-df-convert {\n",
              "      background-color: #E8F0FE;\n",
              "      border: none;\n",
              "      border-radius: 50%;\n",
              "      cursor: pointer;\n",
              "      display: none;\n",
              "      fill: #1967D2;\n",
              "      height: 32px;\n",
              "      padding: 0 0 0 0;\n",
              "      width: 32px;\n",
              "    }\n",
              "\n",
              "    .colab-df-convert:hover {\n",
              "      background-color: #E2EBFA;\n",
              "      box-shadow: 0px 1px 2px rgba(60, 64, 67, 0.3), 0px 1px 3px 1px rgba(60, 64, 67, 0.15);\n",
              "      fill: #174EA6;\n",
              "    }\n",
              "\n",
              "    [theme=dark] .colab-df-convert {\n",
              "      background-color: #3B4455;\n",
              "      fill: #D2E3FC;\n",
              "    }\n",
              "\n",
              "    [theme=dark] .colab-df-convert:hover {\n",
              "      background-color: #434B5C;\n",
              "      box-shadow: 0px 1px 3px 1px rgba(0, 0, 0, 0.15);\n",
              "      filter: drop-shadow(0px 1px 2px rgba(0, 0, 0, 0.3));\n",
              "      fill: #FFFFFF;\n",
              "    }\n",
              "  </style>\n",
              "\n",
              "      <script>\n",
              "        const buttonEl =\n",
              "          document.querySelector('#df-140b69bc-2452-4185-a6dd-22daa68bf682 button.colab-df-convert');\n",
              "        buttonEl.style.display =\n",
              "          google.colab.kernel.accessAllowed ? 'block' : 'none';\n",
              "\n",
              "        async function convertToInteractive(key) {\n",
              "          const element = document.querySelector('#df-140b69bc-2452-4185-a6dd-22daa68bf682');\n",
              "          const dataTable =\n",
              "            await google.colab.kernel.invokeFunction('convertToInteractive',\n",
              "                                                     [key], {});\n",
              "          if (!dataTable) return;\n",
              "\n",
              "          const docLinkHtml = 'Like what you see? Visit the ' +\n",
              "            '<a target=\"_blank\" href=https://colab.research.google.com/notebooks/data_table.ipynb>data table notebook</a>'\n",
              "            + ' to learn more about interactive tables.';\n",
              "          element.innerHTML = '';\n",
              "          dataTable['output_type'] = 'display_data';\n",
              "          await google.colab.output.renderOutput(dataTable, element);\n",
              "          const docLink = document.createElement('div');\n",
              "          docLink.innerHTML = docLinkHtml;\n",
              "          element.appendChild(docLink);\n",
              "        }\n",
              "      </script>\n",
              "    </div>\n",
              "  </div>\n",
              "  "
            ]
          },
          "metadata": {},
          "execution_count": 25
        }
      ]
    },
    {
      "cell_type": "code",
      "source": [
        "stats.spearmanr(stain2.loc[:, [\"Nuclei_CP_AreaShape_Area\", \"Spot_PA_SpotCellCount\"]])"
      ],
      "metadata": {
        "colab": {
          "base_uri": "https://localhost:8080/"
        },
        "id": "hMbnxws2slRO",
        "outputId": "ec4040d6-1ea9-4be8-fde6-975d8f27bbea"
      },
      "execution_count": null,
      "outputs": [
        {
          "output_type": "execute_result",
          "data": {
            "text/plain": [
              "SpearmanrResult(correlation=0.248297940550111, pvalue=0.0)"
            ]
          },
          "metadata": {},
          "execution_count": 22
        }
      ]
    }
  ]
}