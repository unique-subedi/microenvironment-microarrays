{
 "cells": [
  {
   "cell_type": "raw",
   "id": "5dc90ba2",
   "metadata": {},
   "source": [
    "---\n",
    "title: \"STATS 604 Project 1\"\n",
    "output: html_document\n",
    "---"
   ]
  },
  {
   "cell_type": "code",
   "execution_count": null,
   "id": "d70848b0-ae0f-4256-826c-00c89241e94e",
   "metadata": {},
   "outputs": [
    {
     "data": {
      "text/html": [
       "'-DHAVE_WORKING_LOG1P'"
      ],
      "text/latex": [
       "'-DHAVE\\_WORKING\\_LOG1P'"
      ],
      "text/markdown": [
       "'-DHAVE_WORKING_LOG1P'"
      ],
      "text/plain": [
       "[1] \"-DHAVE_WORKING_LOG1P\""
      ]
     },
     "metadata": {},
     "output_type": "display_data"
    }
   ],
   "source": [
    "Sys.getenv(\"PKG_CPPFLAGS\")"
   ]
  },
  {
   "cell_type": "code",
   "execution_count": 4,
   "id": "3251614b-91e9-4e6e-9adb-ccec78061075",
   "metadata": {},
   "outputs": [
    {
     "name": "stderr",
     "output_type": "stream",
     "text": [
      "Warning message in install.packages(\"RcppArmadillo\"):\n",
      "“installation of package ‘RcppArmadillo’ had non-zero exit status”\n",
      "Updating HTML index of packages in '.Library'\n",
      "\n",
      "Making 'packages.html' ...\n",
      " done\n",
      "\n"
     ]
    }
   ],
   "source": [
    "install.packages(\"RcppArmadillo\")"
   ]
  },
  {
   "cell_type": "code",
   "execution_count": 3,
   "id": "2ffe9707",
   "metadata": {
    "name": "setup",
    "tags": [
     "remove_cell"
    ]
   },
   "outputs": [
    {
     "ename": "ERROR",
     "evalue": "Error in library(mrfDepth): there is no package called ‘mrfDepth’\n",
     "output_type": "error",
     "traceback": [
      "Error in library(mrfDepth): there is no package called ‘mrfDepth’\nTraceback:\n",
      "1. library(mrfDepth)"
     ]
    }
   ],
   "source": [
    "knitr::opts_chunk$set(echo = FALSE)\n",
    "library(cowplot)\n",
    "library(grid)\n",
    "library(gridExtra)\n",
    "library(mrfDepth)\n",
    "library(tidyverse)\n",
    "library(tools)\n",
    "library(vctrs)"
   ]
  },
  {
   "cell_type": "markdown",
   "id": "161f90c7",
   "metadata": {
    "lines_to_next_cell": 0
   },
   "source": [
    "<!-- # Data Loading -->\n",
    "\n",
    "<!-- Make one tibble with all of the data. -->"
   ]
  },
  {
   "cell_type": "code",
   "execution_count": null,
   "id": "aa557f42",
   "metadata": {
    "cache": true,
    "message": false,
    "name": "make_all_data"
   },
   "outputs": [],
   "source": [
    "files <- dir(\"Data/\", full.names = TRUE)\n",
    "names(files) <- file_path_sans_ext(basename(files))\n",
    "all_data <- map_dfr(files, read_tsv, .id = \"plate\")"
   ]
  },
  {
   "cell_type": "markdown",
   "id": "0b84af93",
   "metadata": {
    "lines_to_next_cell": 0
   },
   "source": [
    "<!-- There seems to be just one column with staining set information. -->"
   ]
  },
  {
   "cell_type": "code",
   "execution_count": null,
   "id": "74bb5010",
   "metadata": {
    "eval": false,
    "name": "find_ss_cols"
   },
   "outputs": [],
   "source": [
    "select(all_data, contains(\"stain\"))"
   ]
  },
  {
   "cell_type": "markdown",
   "id": "4bf334cf",
   "metadata": {
    "lines_to_next_cell": 0
   },
   "source": [
    "<!-- These are the names of the staining sets. -->"
   ]
  },
  {
   "cell_type": "code",
   "execution_count": null,
   "id": "ddd56e2e",
   "metadata": {
    "eval": false,
    "name": "ss_nms"
   },
   "outputs": [],
   "source": [
    "unique(all_data$StainingSet)"
   ]
  },
  {
   "cell_type": "markdown",
   "id": "ecd7e0fd",
   "metadata": {
    "lines_to_next_cell": 0
   },
   "source": [
    "<!-- Number the staining sets and the plates. -->"
   ]
  },
  {
   "cell_type": "code",
   "execution_count": null,
   "id": "8454cbd8",
   "metadata": {
    "name": "number_sss_and_plates"
   },
   "outputs": [],
   "source": [
    "all_data <- all_data %>%\n",
    "  relocate(StainingSet, .before = 1) %>%\n",
    "  mutate(\n",
    "    ss_num = case_when(\n",
    "      StainingSet == \"SS1Layout1Set1\" ~ 1L,\n",
    "      StainingSet == \"SS2noH3Layout1Set1\" ~ 2L,\n",
    "      StainingSet == \"SS3Layout1Set3\" ~ 3L\n",
    "    )\n",
    "  ) %>%\n",
    "  relocate(ss_num, .after = StainingSet) %>%\n",
    "  group_by(ss_num) %>%\n",
    "  mutate(plate_num = dense_rank(plate)) %>%\n",
    "  ungroup() %>%\n",
    "  relocate(plate_num, .after = plate) %>%\n",
    "  arrange(ss_num, plate_num)"
   ]
  },
  {
   "cell_type": "markdown",
   "id": "c9d41c59",
   "metadata": {
    "lines_to_next_cell": 0
   },
   "source": [
    "<!-- Create one tibble for each staining set. -->"
   ]
  },
  {
   "cell_type": "code",
   "execution_count": null,
   "id": "f16ab04d",
   "metadata": {
    "cache": true,
    "name": "make_ss_tbls"
   },
   "outputs": [],
   "source": [
    "all_data2 <- nest(all_data, data = !c(StainingSet, ss_num))\n",
    "with(\n",
    "  all_data2,\n",
    "  walk2(\n",
    "    ss_num, data,\n",
    "    function(ss_num, data) {\n",
    "      assign(str_interp(\"ss${ss_num}_data\"), data, .GlobalEnv)\n",
    "    }\n",
    "  )\n",
    ")"
   ]
  },
  {
   "cell_type": "markdown",
   "id": "862e2692",
   "metadata": {
    "lines_to_next_cell": 0
   },
   "source": [
    "<!-- # Missingness Analysis -->\n",
    "\n",
    "<!-- For each staining set, there are many columns that only have NAs, seemingly because different variables were measured for different staining sets. -->"
   ]
  },
  {
   "cell_type": "code",
   "execution_count": null,
   "id": "50937623",
   "metadata": {
    "eval": false,
    "name": "find_na_only_cols"
   },
   "outputs": [],
   "source": [
    "find_na_only_cols <- function(data) {\n",
    "  data %>% select(where(~ all(is.na(.x)))) %>% names()\n",
    "}\n",
    "all_data2 %>%\n",
    "  mutate(na_only_cols = map(data, find_na_only_cols)) %>%\n",
    "  pull()"
   ]
  },
  {
   "cell_type": "markdown",
   "id": "151c459c",
   "metadata": {
    "lines_to_next_cell": 0
   },
   "source": [
    "<!-- Drop columns that only have missing values. -->"
   ]
  },
  {
   "cell_type": "code",
   "execution_count": null,
   "id": "cc301fc1",
   "metadata": {
    "name": "drop_na_only_cols"
   },
   "outputs": [],
   "source": [
    "drop_na_only_cols <- function(data) select(data, !where(~ all(is.na(.x))))\n",
    "\n",
    "all_data <- drop_na_only_cols(all_data)\n",
    "all_data2 <- mutate(all_data2, data = map(data, drop_na_only_cols))\n",
    "ss1_data <- drop_na_only_cols(ss1_data)\n",
    "ss2_data <- drop_na_only_cols(ss2_data)\n",
    "ss3_data <- drop_na_only_cols(ss3_data)"
   ]
  },
  {
   "cell_type": "markdown",
   "id": "b8a93374",
   "metadata": {
    "lines_to_next_cell": 0
   },
   "source": [
    "<!-- For each staining set, only a few columns have missing values; these columns are the same across staining sets. They are only missing a small proportion of their values. -->"
   ]
  },
  {
   "cell_type": "code",
   "execution_count": null,
   "id": "09024d48",
   "metadata": {
    "eval": false,
    "name": "find_cols_w_nas"
   },
   "outputs": [],
   "source": [
    "find_cols_w_nas <- function(data) {\n",
    "  data %>%\n",
    "    summarize(across(.fns = ~ mean(is.na(.x)))) %>%\n",
    "    select(where(~ .x > 0))\n",
    "}\n",
    "all_data2 %>% mutate(map(data, find_cols_w_nas)) %>% pull()"
   ]
  },
  {
   "cell_type": "markdown",
   "id": "4ab187f7",
   "metadata": {
    "lines_to_next_cell": 0
   },
   "source": [
    "<!-- When an `ECM2` column is missing a value, `ECMp` is collagen, which makes sense. -->"
   ]
  },
  {
   "cell_type": "code",
   "execution_count": null,
   "id": "64499fb8",
   "metadata": {
    "eval": false,
    "name": "examine_cols_w_nas"
   },
   "outputs": [],
   "source": [
    "check_ECM2_cols_w_nas <- function(data) {\n",
    "  data %>%\n",
    "    select(ECMp, contains(\"ECM2\")) %>%\n",
    "    filter(!vec_detect_complete(.)) %>%\n",
    "    pull(ECMp) %>%\n",
    "    table() %>%\n",
    "    proportions() %>%\n",
    "    sort(decreasing = TRUE)\n",
    "}\n",
    "all_data2 %>% mutate(map(data, check_ECM2_cols_w_nas)) %>% pull()"
   ]
  },
  {
   "cell_type": "markdown",
   "id": "05fbeb2d",
   "metadata": {
    "lines_to_next_cell": 0
   },
   "source": [
    "<!-- When `ECM1Lx` is missing a value, `ECMp` is either `ELN|3` or `air`. I don't know what to make of this. -->"
   ]
  },
  {
   "cell_type": "code",
   "execution_count": null,
   "id": "c272a483",
   "metadata": {
    "eval": false,
    "name": "examine_cols_w_nas2"
   },
   "outputs": [],
   "source": [
    "check_ECM1Lx <- function(data) {\n",
    "  data %>%\n",
    "    filter(is.na(ECM1Lx)) %>%\n",
    "    pull(ECMp) %>%\n",
    "    table() %>%\n",
    "    proportions() %>%\n",
    "    sort(decreasing = TRUE)\n",
    "}\n",
    "all_data2 %>% mutate(map(data, check_ECM1Lx)) %>% pull()"
   ]
  },
  {
   "cell_type": "markdown",
   "id": "a846a4fc",
   "metadata": {
    "lines_to_next_cell": 0
   },
   "source": [
    "<!-- When `Ligand1Lx` is missing a value, `Ligand` is `FGF2|3`. I don't know what to make of this. -->"
   ]
  },
  {
   "cell_type": "code",
   "execution_count": null,
   "id": "e0e9c7bc",
   "metadata": {
    "eval": false,
    "name": "examine_cols_w_nas3"
   },
   "outputs": [],
   "source": [
    "check_Ligand1Lx <- function(data) {\n",
    "  data %>%\n",
    "    filter(is.na(Ligand1Lx)) %>%\n",
    "    pull(Ligand) %>%\n",
    "    table() %>%\n",
    "    proportions() %>%\n",
    "    sort(decreasing = TRUE)\n",
    "}\n",
    "all_data2 %>% mutate(map(data, check_Ligand1Lx)) %>% pull()"
   ]
  },
  {
   "cell_type": "markdown",
   "id": "4a7a12a1",
   "metadata": {
    "lines_to_next_cell": 0
   },
   "source": [
    "# Dimensionality Reduction\n",
    "\n",
    "<!-- ## Variable Scales -->\n",
    "\n",
    "<!-- These seem to be the numeric ID columns; these should be excluded when doing PCA. -->"
   ]
  },
  {
   "cell_type": "code",
   "execution_count": null,
   "id": "7e0ccde4",
   "metadata": {
    "name": "find_numeric_id_cols",
    "tags": [
     "remove_cell"
    ]
   },
   "outputs": [],
   "source": [
    "numeric_id_cols <- all_data %>%\n",
    "  select(\n",
    "    where(is.numeric) &\n",
    "      !matches(\"^(Cells|Cytoplasm|Nuclei)_(CP|PA)_\") &\n",
    "      !matches(\"(Diameter|Conc|TimeReact)$\") &\n",
    "      !matches(\"^Spot_PA_\") &\n",
    "      !QAScore\n",
    "  ) %>%\n",
    "  names()\n",
    "numeric_id_cols"
   ]
  },
  {
   "cell_type": "markdown",
   "id": "76729489",
   "metadata": {
    "lines_to_next_cell": 0
   },
   "source": [
    "<!-- No variable name contains \"|\". -->"
   ]
  },
  {
   "cell_type": "code",
   "execution_count": null,
   "id": "12a99baa",
   "metadata": {
    "eval": false,
    "name": "find_cols_w_pipe"
   },
   "outputs": [],
   "source": [
    "select(all_data, contains(\"|\"))"
   ]
  },
  {
   "cell_type": "markdown",
   "id": "44ebe69f",
   "metadata": {
    "lines_to_next_cell": 0
   },
   "source": [
    "<!-- Define a function for calculating the standard deviations and IQRs of all non-trivial numeric variables in a dataset whose names match a pattern. The output has one row for each variable and columns with the summary statistics. -->"
   ]
  },
  {
   "cell_type": "code",
   "execution_count": null,
   "id": "f22800e4",
   "metadata": {
    "eval": false,
    "name": "summary_stats_funcs"
   },
   "outputs": [],
   "source": [
    "calc_summary_stats <- function(data, pattern = \".*\") {\n",
    "  data %>%\n",
    "    select(\n",
    "      where(is.numeric) &\n",
    "        where(~ !any(is.na(.x))) &\n",
    "        where(~ n_distinct(.x) > 1) &\n",
    "        !any_of(numeric_id_cols) &\n",
    "        matches(pattern)\n",
    "    ) %>%\n",
    "    summarize(\n",
    "      across(.fns = list(sd = sd, iqr = IQR), .names = \"{.col}|{.fn}\")\n",
    "    ) %>%\n",
    "    pivot_longer(\n",
    "      cols = everything(), names_to = c(\"col\", \".value\"), names_sep = \"\\\\|\"\n",
    "    )  \n",
    "}\n",
    "\n",
    "make_summary_stats_plot <- function(summary_stats, title) {\n",
    "  sd_panel <- summary_stats %>%\n",
    "    mutate(log_sd = log10(sd - min(sd) + 1)) %>%\n",
    "    ggplot(aes(log_sd)) +\n",
    "    geom_histogram(color = \"black\", fill = \"lightgray\", bins = 10) +\n",
    "    labs(x = \"Log Standard Deviation\", y = \"Number of Variables\") +\n",
    "    theme_bw()\n",
    "  iqr_panel <- summary_stats %>%\n",
    "    mutate(log_iqr = log10(iqr - min(iqr) + 1)) %>%\n",
    "    ggplot(aes(log_iqr)) +\n",
    "    geom_histogram(color = \"black\", fill = \"lightgray\", bins = 10) +\n",
    "    labs(x = \"Log IQR\", y = \"Number of Variables\") +\n",
    "    theme_bw()\n",
    "  arrangeGrob(sd_panel, iqr_panel, nrow = 1, top = title)\n",
    "}"
   ]
  },
  {
   "cell_type": "markdown",
   "id": "c0121e29",
   "metadata": {
    "lines_to_next_cell": 0
   },
   "source": [
    "<!-- The histograms below show the log-transformed standard deviations and IQRs of all of the variables. For each staining set, there is a fair amount of variation in scale across variables - some variables are on a much larger scale than others. This means that rescaling before performing PCA is absolutely necessary. Otherwise, the top PCs will largely reflect the variables with the largest scales. For each staining set, the five variables with the largest standard deviations are also shown. -->"
   ]
  },
  {
   "cell_type": "code",
   "execution_count": null,
   "id": "aef02531",
   "metadata": {
    "eval": false,
    "message": false,
    "name": "summary_stats"
   },
   "outputs": [],
   "source": [
    "all_summary_stats <- all_data2 %>%\n",
    "  mutate(\n",
    "    summary_stats = map(data, calc_summary_stats),\n",
    "    title = map_chr(\n",
    "      ss_num, ~ str_interp(\"Staining Set ${.x} Summary Statistics\")\n",
    "    ),\n",
    "    summary_stats_plot = map2(summary_stats, title, make_summary_stats_plot)\n",
    "  )\n",
    "\n",
    "with(all_summary_stats, walk(summary_stats_plot, grid.arrange))\n",
    "\n",
    "all_summary_stats %>%\n",
    "  mutate(\n",
    "    summary_stats = map(\n",
    "      summary_stats, ~ slice(arrange(.x, desc(sd)), n = 1:5)\n",
    "    )\n",
    "  ) %>%\n",
    "  select(ss_num, summary_stats) %>%\n",
    "  unnest(summary_stats) %>%\n",
    "  print(n = 15)\n",
    "\n",
    "rm(all_summary_stats)"
   ]
  },
  {
   "cell_type": "markdown",
   "id": "f9477fb9",
   "metadata": {
    "lines_to_next_cell": 0
   },
   "source": [
    "<!-- The histograms below show the log-transformed standard deviations and IQRs of the AreaShape variables. We again see that the variables differ in scale substantially.  -->"
   ]
  },
  {
   "cell_type": "code",
   "execution_count": null,
   "id": "f725ad9d",
   "metadata": {
    "eval": false,
    "message": false,
    "name": "areashape_summary_stats"
   },
   "outputs": [],
   "source": [
    "all_summary_stats <- all_data2 %>%\n",
    "  mutate(\n",
    "    summary_stats = map(data, calc_summary_stats, pattern = \"AreaShape\"),\n",
    "    title = map_chr(\n",
    "      ss_num, ~ str_interp(\"Staining Set ${.x} AreaShape Summary Statistics\")\n",
    "    ),\n",
    "    summary_stats_plot = map2(summary_stats, title, make_summary_stats_plot)\n",
    "  )\n",
    "\n",
    "with(all_summary_stats, walk(summary_stats_plot, grid.arrange))\n",
    "\n",
    "all_summary_stats %>%\n",
    "  mutate(\n",
    "    summary_stats = map(\n",
    "      summary_stats, ~ slice(arrange(.x, desc(sd)), n = 1:5)\n",
    "    )\n",
    "  ) %>%\n",
    "  select(ss_num, summary_stats) %>%\n",
    "  unnest(summary_stats) %>%\n",
    "  print(n = 15)\n",
    "\n",
    "rm(all_summary_stats)"
   ]
  },
  {
   "cell_type": "markdown",
   "id": "bcda78a6",
   "metadata": {
    "lines_to_next_cell": 0
   },
   "source": [
    "## PCA\n",
    "\n",
    "<!-- Define functions for running PCA and plotting the results of PCA. -->"
   ]
  },
  {
   "cell_type": "code",
   "execution_count": null,
   "id": "c5ebfb00",
   "metadata": {
    "name": "pca_funcs"
   },
   "outputs": [],
   "source": [
    "run_pca <- function(data, pattern = \".*\") {\n",
    "  data %>%\n",
    "    select(\n",
    "      where(is.numeric) &\n",
    "        where(~ !any(is.na(.x))) &\n",
    "        where(~ n_distinct(.x) > 1) &\n",
    "        !any_of(numeric_id_cols) &\n",
    "        matches(pattern)\n",
    "    ) %>%\n",
    "    prcomp(scale. = TRUE)\n",
    "}\n",
    "\n",
    "make_prop_var_explained_plot <- function(pca_results, title) {\n",
    "  plot <- pca_results %>%\n",
    "    `$`(\"sdev\") %>%\n",
    "    `^`(2) %>%\n",
    "    {cumsum(.) / sum(.)} %>%\n",
    "    enframe(name = \"num_pcs\", value = \"prop_var_explained\") %>%\n",
    "    ggplot(aes(num_pcs, prop_var_explained)) +\n",
    "    geom_point() +\n",
    "    geom_line() +\n",
    "    geom_hline(linetype = \"dashed\", yintercept = 0.95) +\n",
    "    labs(\n",
    "      x = \"Number of PCs\", y = \"Proportion of Variation Explained\",\n",
    "      title = title\n",
    "    ) +\n",
    "    theme_bw() +\n",
    "    theme(plot.title = element_text(hjust = 0.5))\n",
    "  brks <- layer_scales(plot)$y$get_breaks()\n",
    "  plot + scale_y_continuous(breaks = c(brks, 0.95))\n",
    "}\n",
    "\n",
    "make_first_pc_loadings_plot <- function(pca_results, title) {\n",
    "  pca_results %>%\n",
    "    `$`(\"rotation\") %>%\n",
    "    `[`(, \"PC1\") %>%\n",
    "    enframe(name = \"col\", value = \"loading\") %>%\n",
    "    ggplot(aes(loading)) +\n",
    "    geom_histogram(color = \"black\", fill = \"lightgray\", binwidth = 0.01) +\n",
    "    labs(x = \"PC1 Loading\", y = \"Number of Variables\", title = title) +\n",
    "    theme_bw() +\n",
    "    theme(plot.title = element_text(hjust = 0.5))\n",
    "}\n",
    "\n",
    "make_first_2_pcs_loadings_plot_no_pattern <- function(pca_results, title) {\n",
    "  pca_results %>%\n",
    "    `$`(\"rotation\") %>%\n",
    "    `[`(, c(\"PC1\", \"PC2\")) %>%\n",
    "    as_tibble(rownames = \"col\") %>%\n",
    "    rename(loading1 = PC1, loading2 = PC2) %>%\n",
    "    ggplot(aes(loading1, loading2)) +\n",
    "    geom_point() +\n",
    "    labs(x = \"PC1 Loading\", y = \"PC2 Loading\", title = title) +\n",
    "    theme_bw() +\n",
    "    theme(plot.title = element_text(hjust = 0.5))\n",
    "}\n",
    "\n",
    "make_first_2_pcs_loadings_plot_pattern <- function(pca_results,\n",
    "                                                    pattern,\n",
    "                                                    title) {\n",
    "  pca_results %>%\n",
    "    `$`(\"rotation\") %>%\n",
    "    `[`(, c(\"PC1\", \"PC2\")) %>%\n",
    "    as_tibble(rownames = \"col\") %>%\n",
    "    rename(loading1 = PC1, loading2 = PC2) %>%\n",
    "    mutate(\n",
    "      col_parts = str_split(col, \"_\"),\n",
    "      subset1 = map_chr(col_parts, 1),\n",
    "      subset2 = map_chr(col_parts, 3)\n",
    "    ) %>%\n",
    "    select(!col_parts) %>%\n",
    "    select(where(~ !all(str_detect(.x, pattern)))) %>%\n",
    "    rename_with(str_remove, starts_with(\"subset\"), pattern = \"\\\\d$\") %>%\n",
    "    ggplot(aes(loading1, loading2, color = subset)) +\n",
    "    geom_point() +\n",
    "    labs(\n",
    "      x = \"PC1 Loading\", y = \"PC2 Loading\",\n",
    "      color = \"Subset\",\n",
    "      title = title\n",
    "    ) +\n",
    "    theme_bw() +\n",
    "    theme(legend.position = \"bottom\", plot.title = element_text(hjust = 0.5))\n",
    "}\n",
    "\n",
    "make_first_2_pcs_loadings_plot <- function(pca_results, pattern = \".*\", title) {\n",
    "  if (pattern == \".*\") {\n",
    "    make_first_2_pcs_loadings_plot_no_pattern(pca_results, title)\n",
    "  } else {\n",
    "    make_first_2_pcs_loadings_plot_pattern(pca_results, pattern, title)\n",
    "  }\n",
    "}\n",
    "\n",
    "make_pca_results_plot <- function(pca_results, pattern = \".*\", title) {\n",
    "  panel1 <- make_prop_var_explained_plot(pca_results, title = NULL)\n",
    "  panel2 <- make_first_pc_loadings_plot(pca_results, title = NULL)\n",
    "  panel3 <- make_first_2_pcs_loadings_plot(pca_results, pattern, title = NULL)\n",
    "  \n",
    "  legend <- get_legend(panel3)\n",
    "  if (is.null(legend)) {\n",
    "    return(arrangeGrob(panel1, panel2, panel3, nrow = 1, top = title))\n",
    "  }\n",
    "  panel3 <- panel3 + theme(legend.position = \"none\")\n",
    "  plot_grid(\n",
    "    arrangeGrob(panel1, panel2, panel3, nrow = 1, top = title),\n",
    "    legend,\n",
    "    ncol = 1,\n",
    "    rel_heights = c(9, 1)\n",
    "  )\n",
    "}\n",
    "\n",
    "make_pca_results_plots <- function(pattern = \".*\", ss_nums = 1:3) {\n",
    "  if (pattern == \".*\") {\n",
    "    title_template <- \"PCA Results for Staining Set ${.x}, All Variables\"\n",
    "  } else {\n",
    "    title_template <- \n",
    "      \"PCA Results for Staining Set ${.x}, ${pattern} Variables Only\"\n",
    "  }\n",
    "  all_data2 %>%\n",
    "    filter(ss_num %in% ss_nums) %>%\n",
    "    mutate(\n",
    "      pca_results = map(data, run_pca, pattern = pattern),\n",
    "      title = map_chr(ss_num, ~ str_interp(title_template)),\n",
    "      pca_results_plot = map2(\n",
    "        pca_results, title, make_pca_results_plot, pattern = pattern\n",
    "      )\n",
    "    )\n",
    "}"
   ]
  },
  {
   "cell_type": "markdown",
   "id": "611a4894",
   "metadata": {},
   "source": [
    "We first ran PCA using all non-trivial numeric variables. We considered a numeric variable to be non-trivial if it wasn't an ID variable, didn't have any missing values, and had more than one unique value. Each variable was centered and scaled beforehand. Because of the differences we observed between staining sets, we carried out PCA separately for the different staining sets. The plots below show the results of PCA for all non-trivial numeric variables. In the left-hand panels, we see that the first 20-30 principal components (PCs) capture around 95\\% of the variation for each staining set. The middle panels show the loadings for the first PC. Every PC can be expressed as a linear combination of the original variables; the coefficients in the linear combination are called loadings. Ideally, most loadings would be close to zero, and only a few would have non-trivial magnitudes. Then, interpretation of the PC in terms of the original variables would be simple. However, this was not the case; many of the loadings were non-trivial. The right-hand panels plot the PC2 loading versus the PC1 loading for each variable. It would be interesting if the variables lay in clusters, but this isn't the case below."
   ]
  },
  {
   "cell_type": "code",
   "execution_count": null,
   "id": "3d1c6b49",
   "metadata": {
    "cache": true,
    "name": "pca"
   },
   "outputs": [],
   "source": [
    "make_pca_results_plots() %>%\n",
    "  with(walk(pca_results_plot, grid.arrange))"
   ]
  },
  {
   "cell_type": "markdown",
   "id": "637787a9",
   "metadata": {
    "lines_to_next_cell": 0
   },
   "source": [
    "<!-- Define a function that counts non-trivial numeric columns whose names match a pattern. -->"
   ]
  },
  {
   "cell_type": "code",
   "execution_count": null,
   "id": "0e094fb0",
   "metadata": {
    "name": "count_cols"
   },
   "outputs": [],
   "source": [
    "count_cols <- function(data, pattern) {\n",
    "  data %>%\n",
    "    select(\n",
    "      where(is.numeric) &\n",
    "        where(~ !any(is.na(.x))) &\n",
    "        where(~ n_distinct(.x) > 1) &\n",
    "        !any_of(numeric_id_cols) &\n",
    "        matches(pattern)\n",
    "    ) %>%\n",
    "    ncol()\n",
    "}"
   ]
  },
  {
   "cell_type": "markdown",
   "id": "d6a40c48",
   "metadata": {
    "lines_to_next_cell": 0
   },
   "source": [
    "### PCA by Variable Class\n",
    "\n",
    "For each class of columns, count columns by staining set. Some classes don't appear in all staining sets. For others, the counts differ substantially across staining sets."
   ]
  },
  {
   "cell_type": "code",
   "execution_count": null,
   "id": "de8c6a4a",
   "metadata": {
    "name": "col_counts_by_class"
   },
   "outputs": [],
   "source": [
    "all_data2 %>%\n",
    "  mutate(\n",
    "    num_areashape_cols = map_int(data, count_cols, pattern = \"AreaShape\"),\n",
    "    num_intensity_cols = map_int(data, count_cols, pattern = \"Intensity\"),\n",
    "    num_cycle_cols = map_int(data, count_cols, pattern = \"Cycle\"),\n",
    "    num_gated_cols = map_int(data, count_cols, pattern = \"Gated\"),\n",
    "    num_texture_cols = map_int(data, count_cols, pattern = \"Texture\")\n",
    "  ) %>%\n",
    "  select(!c(StainingSet, ss_num, data)) %>%\n",
    "  print(width = 100)"
   ]
  },
  {
   "cell_type": "markdown",
   "id": "f974a670",
   "metadata": {
    "lines_to_next_cell": 0
   },
   "source": [
    "Looking only at the AreaShape variables, fewer than ten PCs account for over 95\\% of the variation. In particular, for staining set 2, just four PCs account for that percentage of the variation. Plots of the PC1 and PC2 loadings don't seem to reveal anything."
   ]
  },
  {
   "cell_type": "code",
   "execution_count": null,
   "id": "eb7d451d",
   "metadata": {
    "cache": true,
    "name": "areashape_pca"
   },
   "outputs": [],
   "source": [
    "make_pca_results_plots(pattern = \"AreaShape\") %>%\n",
    "  with(walk(pca_results_plot, grid.arrange))"
   ]
  },
  {
   "cell_type": "markdown",
   "id": "581048ad",
   "metadata": {
    "lines_to_next_cell": 0
   },
   "source": [
    "We next consider the Intensity variables. For staining sets 1 and 2, around five PCs capture 95\\% of the variation. However, for staining set 3, 12-13 PCs are needed. Plots of the PC1 and PC2 loadings don't seem to reveal anything."
   ]
  },
  {
   "cell_type": "code",
   "execution_count": null,
   "id": "275139ba",
   "metadata": {
    "cache": true,
    "name": "intensity_pca"
   },
   "outputs": [],
   "source": [
    "make_pca_results_plots(pattern = \"Intensity\") %>%\n",
    "  with(walk(pca_results_plot, grid.arrange))"
   ]
  },
  {
   "cell_type": "markdown",
   "id": "16290b8b",
   "metadata": {
    "lines_to_next_cell": 0
   },
   "source": [
    "<!-- For the Cycle variables, for each staining set, the top two PCs account for all of the variation.  Plots of the PC1 and PC2 loadings don't seem to reveal anything. -->"
   ]
  },
  {
   "cell_type": "code",
   "execution_count": null,
   "id": "ab9e6456",
   "metadata": {
    "cache": true,
    "name": "cycle_pca",
    "tags": [
     "remove_cell"
    ]
   },
   "outputs": [],
   "source": [
    "make_pca_results_plots(pattern = \"Cycle\") %>%\n",
    "  with(walk(pca_results_plot, grid.arrange))"
   ]
  },
  {
   "cell_type": "markdown",
   "id": "2e883712",
   "metadata": {
    "lines_to_next_cell": 0
   },
   "source": [
    "<!-- We next consider the Gated variables, which weren't measured for staining set 1. For staining set 2, all PCs are needed to capture 95\\% of the variation. For staining set 3, five PCs are needed. Plots of the PC1 and PC2 loadings don't seem to reveal anything. -->"
   ]
  },
  {
   "cell_type": "code",
   "execution_count": null,
   "id": "92eaf7b1",
   "metadata": {
    "cache": true,
    "name": "gated_pca",
    "tags": [
     "remove_cell"
    ]
   },
   "outputs": [],
   "source": [
    "make_pca_results_plots(pattern = \"Gated\", ss_nums = c(2, 3)) %>%\n",
    "  with(walk(pca_results_plot, grid.arrange))"
   ]
  },
  {
   "cell_type": "markdown",
   "id": "599a8a4c",
   "metadata": {
    "lines_to_next_cell": 0
   },
   "source": [
    "The Texture variables were only measured for staining set 2. Six PCs account for 95\\% of the variation. The plot of the PC1 and PC2 loadings seems to suggest that the variables can be partitioned into three clusters."
   ]
  },
  {
   "cell_type": "code",
   "execution_count": null,
   "id": "6cf26159",
   "metadata": {
    "cache": true,
    "name": "texture_pca"
   },
   "outputs": [],
   "source": [
    "make_pca_results_plots(pattern = \"Texture\", ss_nums = 2) %>%\n",
    "  with(walk(pca_results_plot, grid.arrange))"
   ]
  },
  {
   "cell_type": "markdown",
   "id": "a6814b0c",
   "metadata": {
    "lines_to_next_cell": 0
   },
   "source": [
    "### PCA by Cell Part\n",
    "\n",
    "For each cell part, count columns by staining set. As before, some classes don't appear in all staining sets. For others, the counts differ substantially across staining sets."
   ]
  },
  {
   "cell_type": "code",
   "execution_count": null,
   "id": "3a059b31",
   "metadata": {
    "name": "col_counts_by_cell_part"
   },
   "outputs": [],
   "source": [
    "all_data2 %>%\n",
    "  mutate(\n",
    "    num_cells_cols = map_int(data, count_cols, pattern = \"Cells\"),\n",
    "    num_cytoplasm_cols = map_int(data, count_cols, pattern = \"Cytoplasm\"),\n",
    "    num_nuclei_cols = map_int(data, count_cols, pattern = \"Nuclei\")\n",
    "  ) %>%\n",
    "  select(!c(StainingSet, ss_num, data))"
   ]
  },
  {
   "cell_type": "markdown",
   "id": "f13acfec",
   "metadata": {
    "lines_to_next_cell": 0
   },
   "source": [
    "Looking at the Cells variables, for staining set 1, the first seven PCs account for 95\\% of the variation. For staining set 3, the number is nine. Plots of the PC1 and PC2 loadings don't seem to reveal anything."
   ]
  },
  {
   "cell_type": "code",
   "execution_count": null,
   "id": "5e859c00",
   "metadata": {
    "cache": true,
    "name": "cells_pca"
   },
   "outputs": [],
   "source": [
    "make_pca_results_plots(pattern = \"Cells\", ss_nums = c(1, 3)) %>%\n",
    "  with(walk(pca_results_plot, grid.arrange))"
   ]
  },
  {
   "cell_type": "markdown",
   "id": "8215c2ae",
   "metadata": {
    "lines_to_next_cell": 0
   },
   "source": [
    "Looking at the Cytoplasm variables, for staining set 1, the first eight PCs account for 95\\% of the variation. For staining set 3, the number is 15. Plots of the PC1 and PC2 loadings don't seem to reveal anything."
   ]
  },
  {
   "cell_type": "code",
   "execution_count": null,
   "id": "1568e649",
   "metadata": {
    "cache": true,
    "name": "cytoplasm_pca"
   },
   "outputs": [],
   "source": [
    "make_pca_results_plots(pattern = \"Cytoplasm\", ss_nums = c(1, 3)) %>%\n",
    "  with(walk(pca_results_plot, grid.arrange))"
   ]
  },
  {
   "cell_type": "markdown",
   "id": "e1599954",
   "metadata": {
    "lines_to_next_cell": 0
   },
   "source": [
    "Looking at the Nuclei variables, for staining set 1, the first seven PCs account for 95\\% of the variation. For staining set 2, the number is around 17. For staining set 3, the number is 11. Plots of the PC1 and PC2 loadings don't seem to reveal anything."
   ]
  },
  {
   "cell_type": "code",
   "execution_count": null,
   "id": "9ae8f4e5",
   "metadata": {
    "cache": true,
    "name": "nuclei_pca"
   },
   "outputs": [],
   "source": [
    "make_pca_results_plots(pattern = \"Nuclei\") %>%\n",
    "  with(walk(pca_results_plot, grid.arrange))"
   ]
  },
  {
   "cell_type": "markdown",
   "id": "b312cdb9",
   "metadata": {},
   "source": [
    "# Outlier Detection"
   ]
  },
  {
   "cell_type": "code",
   "execution_count": null,
   "id": "9ef725cc",
   "metadata": {
    "name": "outlyingness_funcs"
   },
   "outputs": [],
   "source": [
    "make_outlyingness_plot <- function(plate_num,\n",
    "                                   plate_data,\n",
    "                                   plot_type = c(\n",
    "                                     \"outlyingness\", \"flag\"\n",
    "                                   )) {\n",
    "  if (plot_type == \"outlyingness\") {\n",
    "    col <- as.name(\"outlyingness\")\n",
    "    fill_lab <- \"Outlyingness\"\n",
    "  } else {\n",
    "    col <- as.name(\"is_outlier\")\n",
    "    fill_lab <- \"Is Outlier?\"\n",
    "  }\n",
    "  \n",
    "  plate_data %>%\n",
    "    ggplot(aes(ArrayColumn, ArrayRow, fill = !!col)) +\n",
    "    facet_wrap(vars(Well), nrow = 2) +\n",
    "    geom_tile() +\n",
    "    labs(\n",
    "      x = NULL, y = NULL,\n",
    "      fill = fill_lab,\n",
    "      title = str_interp(\"Plate ${plate_num}\")\n",
    "    ) +\n",
    "    theme_bw() +\n",
    "    theme(\n",
    "      axis.text = element_blank(),\n",
    "      axis.ticks = element_blank(),\n",
    "      plot.title = element_text(hjust = 0.5),\n",
    "      strip.text = element_blank()\n",
    "    )\n",
    "}\n",
    "\n",
    "make_outlyingness_plots <- function(ss_num,\n",
    "                                    data,\n",
    "                                    pattern,\n",
    "                                    invariance_type = c(\n",
    "                                      \"Affine\", \"Rotation\", \"Shift\"\n",
    "                                    ),\n",
    "                                    plot_type = c(\n",
    "                                      \"outlyingness\", \"flag\"\n",
    "                                    )\n",
    "                                    ) {\n",
    "  pca_results <- run_pca(data, pattern)\n",
    "  lambdas <- pca_results$sdev^2\n",
    "  num_pcs <- lambdas %>%\n",
    "    {cumsum(.) / sum(.)} %>%\n",
    "    `>=`(0.95) %>%\n",
    "    which() %>%\n",
    "    min()\n",
    "  \n",
    "  outlyingness_obj <- pca_results %>%\n",
    "    `$`(\"x\") %>%\n",
    "    `[`(, seq_len(num_pcs)) %>%\n",
    "    adjOutl(options = list(type = invariance_type))\n",
    "\n",
    "  plots <- data %>%\n",
    "    select(plate_num, Well, ArrayColumn, ArrayRow) %>%\n",
    "    add_column(\n",
    "      outlyingness = outlyingness_obj$outlyingnessX,\n",
    "      is_outlier = !outlyingness_obj$flagX\n",
    "    ) %>%\n",
    "    nest(plate_data = !plate_num) %>%\n",
    "    mutate(\n",
    "      outlyingness_plot = map2(\n",
    "        plate_num, plate_data,\n",
    "        make_outlyingness_plot,\n",
    "        plot_type = plot_type\n",
    "      )\n",
    "    ) %>%\n",
    "    pull()\n",
    "\n",
    "  if (pattern == \".*\") {\n",
    "    title <- str_interp(\"Staining Set ${ss_num}, All Variables\")\n",
    "  } else {\n",
    "    title <- str_interp(\n",
    "      \"Staining Set ${ss_num}, ${pattern} Variables Only\"\n",
    "    )\n",
    "  }\n",
    "  title <- textGrob(title, gp = gpar(fontsize = 20))\n",
    "  legend <- get_legend(plots[[1]] + theme(legend.position = \"bottom\"))\n",
    "  plots %>%\n",
    "    map(function(plot) plot + theme(legend.position = \"none\")) %>%\n",
    "    plot_grid(plotlist = ., nrow = 2, ncol = 4) %>%\n",
    "    plot_grid(title, ., legend, ncol = 1, rel_heights = c(1, 9, 1))\n",
    "}"
   ]
  },
  {
   "cell_type": "markdown",
   "id": "48926b5b",
   "metadata": {},
   "source": [
    "We sought to identify replicates that could be considered outliers with respect to their staining sets. We performed outlier detection by calculating a skew-adjusted version of a measure of outlyingness called the Stahel-Donoho outlyingness (SDO) for each replicate. In the univariate case, the ordinary SDO of an observation $x_i$ is\n",
    "\\[\n",
    "\\text{SDO}(x_i) := \\frac{|x_i - \\text{med}_j x_j|}{\\text{med}_k |x_k - \\text{med}_j x_j|}.\n",
    "\\]\n",
    "In the multivariate case, the SDO of $\\boldsymbol{x}_i$ is\n",
    "\\[\n",
    "\\text{SDO}(\\boldsymbol{x}_i) := \\sup_{\\boldsymbol{u} \\in \\mathbb{R}^d} \\frac{|\\boldsymbol{x}_i^T \\boldsymbol{u} - \\text{med}_j \\boldsymbol{x}_j^T \\boldsymbol{u}|}{\\text{med}_k |\\boldsymbol{x}_k^T \\boldsymbol{u} - \\text{med}_j \\boldsymbol{x}_j^T \\boldsymbol{u}|}.\n",
    "\\]\n",
    "The measure we used is a robust version of the ordinary multivariate SDO appropriate for skewed data. Since not all directions could be used in the computations, a subset of directions was used that was chosen in a random fashion. As in the dimensionality reduction section, we performed outlier detection for various subsets of the numeric variables.\n",
    "\n",
    "The plots below show the distribution of the outliers across the wells for each staining set and each variable subset. In most wells, there are few outliers, and they're scattered seemingly randomly across the well. However, in some wells, there are large concentrations of outliers. The reasons for these concentrations are unclear; further investigation is necessary to determine them."
   ]
  },
  {
   "cell_type": "code",
   "execution_count": null,
   "id": "51582b80",
   "metadata": {
    "cache": true,
    "name": "outlyingnesses"
   },
   "outputs": [],
   "source": [
    "all_data2 %>%\n",
    "  mutate(\n",
    "    outlyingness_plots = map2(\n",
    "      ss_num, data,\n",
    "      make_outlyingness_plots,\n",
    "      pattern = \".*\", invariance_type = \"Shift\", plot_type = \"flag\"\n",
    "    )\n",
    "  ) %>%\n",
    "  select(!data) %>%\n",
    "  with(walk(outlyingness_plots, print))"
   ]
  },
  {
   "cell_type": "markdown",
   "id": "fdd3270f",
   "metadata": {},
   "source": [
    "### Outlier Detection by Variable Class"
   ]
  },
  {
   "cell_type": "code",
   "execution_count": null,
   "id": "b40621a6",
   "metadata": {
    "cache": true,
    "name": "areashape_outlyingnesses"
   },
   "outputs": [],
   "source": [
    "all_data2 %>%\n",
    "  mutate(\n",
    "    outlyingness_plots = map2(\n",
    "      ss_num, data,\n",
    "      make_outlyingness_plots,\n",
    "      pattern = \"AreaShape\", invariance_type = \"Shift\", plot_type = \"flag\"\n",
    "    )\n",
    "  ) %>%\n",
    "  select(!data) %>%\n",
    "  with(walk(outlyingness_plots, print))"
   ]
  },
  {
   "cell_type": "code",
   "execution_count": null,
   "id": "2502c3d6",
   "metadata": {
    "cache": true,
    "name": "intensity_outlyingnesses"
   },
   "outputs": [],
   "source": [
    "all_data2 %>%\n",
    "  mutate(\n",
    "    outlyingness_plots = map2(\n",
    "      ss_num, data,\n",
    "      make_outlyingness_plots,\n",
    "      pattern = \"Intensity\", invariance_type = \"Shift\", plot_type = \"flag\"\n",
    "    )\n",
    "  ) %>%\n",
    "  select(!data) %>%\n",
    "  with(walk(outlyingness_plots, print))"
   ]
  },
  {
   "cell_type": "code",
   "execution_count": null,
   "id": "0981d9a9",
   "metadata": {
    "cache": true,
    "eval": false,
    "name": "cycle_outlyingnesses"
   },
   "outputs": [],
   "source": [
    "all_data2 %>%\n",
    "  mutate(\n",
    "    outlyingness_plots = map2(\n",
    "      ss_num, data,\n",
    "      make_outlyingness_plots,\n",
    "      pattern = \"Cycle\", invariance_type = \"Shift\", plot_type = \"flag\"\n",
    "    )\n",
    "  ) %>%\n",
    "  select(!data) %>%\n",
    "  with(walk(outlyingness_plots, print))"
   ]
  },
  {
   "cell_type": "code",
   "execution_count": null,
   "id": "18b794f3",
   "metadata": {
    "cache": true,
    "eval": false,
    "name": "gated_outlyingnesses"
   },
   "outputs": [],
   "source": [
    "all_data2 %>%\n",
    "  filter(ss_num %in% c(1, 3)) %>%\n",
    "  mutate(\n",
    "    outlyingness_plots = map2(\n",
    "      ss_num, data,\n",
    "      make_outlyingness_plots,\n",
    "      pattern = \"Gated\", invariance_type = \"Shift\", plot_type = \"flag\"\n",
    "    )\n",
    "  ) %>%\n",
    "  select(!data) %>%\n",
    "  with(walk(outlyingness_plots, print))"
   ]
  },
  {
   "cell_type": "code",
   "execution_count": null,
   "id": "eab059df",
   "metadata": {
    "cache": true,
    "name": "texture_outlyingnesses"
   },
   "outputs": [],
   "source": [
    "all_data2 %>%\n",
    "  filter(ss_num == 2) %>%\n",
    "  mutate(\n",
    "    outlyingness_plots = map2(\n",
    "      ss_num, data,\n",
    "      make_outlyingness_plots,\n",
    "      pattern = \"Texture\", invariance_type = \"Shift\", plot_type = \"flag\"\n",
    "    )\n",
    "  ) %>%\n",
    "  select(!data) %>%\n",
    "  with(walk(outlyingness_plots, print))"
   ]
  },
  {
   "cell_type": "markdown",
   "id": "3bdfc944",
   "metadata": {},
   "source": [
    "### Outlier Detection by Cell Part"
   ]
  },
  {
   "cell_type": "code",
   "execution_count": null,
   "id": "eaa341cb",
   "metadata": {
    "cache": true,
    "name": "cells_outlyingnesses"
   },
   "outputs": [],
   "source": [
    "all_data2 %>%\n",
    "  filter(ss_num %in% c(1, 3)) %>%\n",
    "  mutate(\n",
    "    outlyingness_plots = map2(\n",
    "      ss_num, data,\n",
    "      make_outlyingness_plots,\n",
    "      pattern = \"Cells\", invariance_type = \"Shift\", plot_type = \"flag\"\n",
    "    )\n",
    "  ) %>%\n",
    "  select(!data) %>%\n",
    "  with(walk(outlyingness_plots, print))"
   ]
  },
  {
   "cell_type": "code",
   "execution_count": null,
   "id": "27e4b63f",
   "metadata": {
    "cache": true,
    "name": "cytoplasm_outlyingnesses"
   },
   "outputs": [],
   "source": [
    "all_data2 %>%\n",
    "  filter(ss_num %in% c(1, 3)) %>%\n",
    "  mutate(\n",
    "    outlyingness_plots = map2(\n",
    "      ss_num, data,\n",
    "      make_outlyingness_plots,\n",
    "      pattern = \"Cytoplasm\", invariance_type = \"Shift\", plot_type = \"flag\"\n",
    "    )\n",
    "  ) %>%\n",
    "  select(!data) %>%\n",
    "  with(walk(outlyingness_plots, print))"
   ]
  },
  {
   "cell_type": "code",
   "execution_count": null,
   "id": "3bd72171",
   "metadata": {
    "cache": true,
    "name": "nuclei_outlyingnesses"
   },
   "outputs": [],
   "source": [
    "all_data2 %>%\n",
    "  mutate(\n",
    "    outlyingness_plots = map2(\n",
    "      ss_num, data,\n",
    "      make_outlyingness_plots,\n",
    "      pattern = \"Nuclei\", invariance_type = \"Shift\", plot_type = \"flag\"\n",
    "    )\n",
    "  ) %>%\n",
    "  select(!data) %>%\n",
    "  with(walk(outlyingness_plots, print))"
   ]
  },
  {
   "cell_type": "code",
   "execution_count": null,
   "id": "8440e9e3-7f26-44b1-9990-1c5fff0b2c3b",
   "metadata": {},
   "outputs": [],
   "source": []
  }
 ],
 "metadata": {
  "jupytext": {
   "cell_metadata_filter": "eval,name,message,tags,cache,-all",
   "main_language": "R",
   "notebook_metadata_filter": "-all"
  },
  "kernelspec": {
   "display_name": "R",
   "language": "R",
   "name": "ir"
  },
  "language_info": {
   "codemirror_mode": "r",
   "file_extension": ".r",
   "mimetype": "text/x-r-source",
   "name": "R",
   "pygments_lexer": "r",
   "version": "4.1.3"
  }
 },
 "nbformat": 4,
 "nbformat_minor": 5
}
